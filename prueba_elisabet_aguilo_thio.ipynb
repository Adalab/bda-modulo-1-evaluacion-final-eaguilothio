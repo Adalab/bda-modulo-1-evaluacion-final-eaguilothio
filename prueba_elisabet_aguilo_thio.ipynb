{
 "cells": [
  {
   "cell_type": "code",
   "execution_count": 3,
   "id": "b2a5b9d0",
   "metadata": {},
   "outputs": [
    {
     "name": "stdout",
     "output_type": "stream",
     "text": [
      "<class 'list'>\n",
      "<class 'dict'>\n",
      "<class 'float'>\n"
     ]
    }
   ],
   "source": [
    "# Estructura\n",
    "# Vamos a tener tres estructuras principales con las que vamos a trabajar:\n",
    "\n",
    "# 1. inventario (lista de diccionarios)\n",
    "# Debe ser una lista vacía al principio, tal como se indica. \n",
    "# El ejercicio pide que la lista completa esté vacía, no que contenga un producto vacío. \n",
    "# La estructura [{}] no es correcta ya contiene un elemento por lo que no está vacía.\n",
    "# Si quisiera un ejemplo de producto con claves vacías, la estructura correcta sería: producto_vacio = {\"nombre\": \"\", \"precio:0.0, \"cantidad\": 0}\n",
    "# Pero, el ejercicio solo pide la lista vacía. \n",
    "\n",
    "inventario = []\n",
    "\n",
    "# 2. clientes (diccionario)\n",
    "# Falta información sobre si el diccionario está vacío o no.\n",
    "# Dado que anteriormente se especificó la lista vacía y se mostró ejemplo de cómo debía ser.\n",
    "# Interpreto que, al no haber mención explícita en este caso, se asume que el diccionario que aparece es el que debo usar.\n",
    "# El diccionario clientes está compuesto por pares clave-valor, donde cada clave es el nombre de un cliente (como 'Ana García') y su valor es otro diccionario con información como el email y una lista de compras vacía.\n",
    "\n",
    "clientes = { 'Ana García': {'email': 'ana.garcia@email.com', 'compras': []},\n",
    "    'Luis Fernández': {'email': 'luis.fernandez@email.com', 'compras': []},\n",
    "    'María López': {'email': 'maria.lopez@email.com', 'compras': []},\n",
    "    'Carlos Ruiz': {'email': 'carlos.ruiz@email.com', 'compras': []},\n",
    "    'Elena Martín': {'email': 'elena.martin@email.com', 'compras': []},\n",
    "    'Javier Torres': {'email': 'javier.torres@email.com', 'compras': []},\n",
    "    'Lucía Sánchez': {'email': 'lucia.sanchez@email.com', 'compras': []},\n",
    "    'Sergio Díaz': {'email': 'sergio.diaz@email.com', 'compras': []},\n",
    "    'Patricia Ramos': {'email': 'patricia.ramos@email.com', 'compras': []},\n",
    "    'Diego Navarro': {'email': 'diego.navarro@email.com', 'compras': []} }\n",
    "\n",
    "# 3. ventas_totales (float)\n",
    "ventas_totales = 0.0\n",
    "# 0.0 es la forma más directa y recomendada para inicializar un número decimal (float). \n",
    "# float(0) se usa cuando partimos de un valor cuyo tipo no es compatible (por ejemplo, una cadena o entero) y necesitamos convertirlo explícitamente a float.\n",
    "\n",
    "# Evitar errores: print(type()). \n",
    "# Es una forma sencilla de confirmar que no cometí un error accidentalmente. \n",
    "# Por ejemplo, si hubiera escrito inventario = {} (un diccionario), type() me lo indicaría inmediatamente. \n",
    "\n",
    "print(type(inventario))\n",
    "print(type(clientes))\n",
    "print(type(ventas_totales))\n"
   ]
  },
  {
   "cell_type": "code",
   "execution_count": 5,
   "id": "e85e2efa",
   "metadata": {},
   "outputs": [
    {
     "name": "stdout",
     "output_type": "stream",
     "text": [
      "[]\n",
      "{'Ana García': {'email': 'ana.garcia@email.com', 'compras': []}, 'Luis Fernández': {'email': 'luis.fernandez@email.com', 'compras': []}, 'María López': {'email': 'maria.lopez@email.com', 'compras': []}, 'Carlos Ruiz': {'email': 'carlos.ruiz@email.com', 'compras': []}, 'Elena Martín': {'email': 'elena.martin@email.com', 'compras': []}, 'Javier Torres': {'email': 'javier.torres@email.com', 'compras': []}, 'Lucía Sánchez': {'email': 'lucia.sanchez@email.com', 'compras': []}, 'Sergio Díaz': {'email': 'sergio.diaz@email.com', 'compras': []}, 'Patricia Ramos': {'email': 'patricia.ramos@email.com', 'compras': []}, 'Diego Navarro': {'email': 'diego.navarro@email.com', 'compras': []}}\n",
      "0.0\n"
     ]
    }
   ],
   "source": [
    "# Confirmar contenido de las variables\n",
    "# Determinar la clase (tipo) de la variable con print(type(...)) debe hacerse primero. \n",
    "# Esto valida que la variable fue inicializada con la estructura de datos correcta (lista, diccionario, flotante, etc.). \n",
    "# Esto es una verificación de la forma de la estructura.\n",
    "\n",
    "# Imprimir el contenido de la variable con print(nombre_variable) debe hacerse después. \n",
    "# Esto valida que, una vez que la forma es correcta, el contenido que se esperaba (la lista vacía, el diccionario con clientes iniciales, el valor 0.0, etc.) se ha cargado correctamente. \n",
    "# Esto es una verificación del contenido de la estructura.\n",
    "\n",
    "print(inventario)\n",
    "print(clientes)\n",
    "print(ventas_totales)"
   ]
  },
  {
   "cell_type": "code",
   "execution_count": null,
   "id": "57e015b4",
   "metadata": {},
   "outputs": [],
   "source": [
    "#  Mi lógica de programación\n",
    "#  1. ¿Qué quiero que haga la función?\n",
    "# Escribir el objetivo en una frase clara.\n",
    "\n",
    "# 2. ¿Qué datos necesita para funcionar?\n",
    "# Enumerar los datos que necesita recibir → serán los parámetros.\n",
    "# Parámetro 1: ¿Dónde quiero consultar o modificar?\n",
    "# → Ese será el contexto: lista, diccionario, conjunto, etc.\n",
    "# Parámetros 2, 3, ...: ¿Qué quiero consultar, buscar, agregar o cambiar?\n",
    "# → Esos serán los datos específicos: nombre, clave, valor, cantidad, etc.\n",
    "\n",
    "# 3. ¿Qué nombre le pongo?\n",
    "# Usar un verbo + acción concreta. \n",
    "# Ejemplos: \n",
    "# verificar_par() → verifica si un número es par\n",
    "# calcular_total()  → calcula el total de algo\n",
    "# traducir_palabra() → traduce una palabra\n",
    "\n",
    "# 4. ¿Qué pasos debe seguir?\n",
    "# Escribir los pasos como instrucciones simples.\n",
    "# Ejemplo:\n",
    "# - Recibir los datos\n",
    "# - Hacer el cálculo o verificación\n",
    "# - Devolver el resultado\n",
    "\n",
    "# 5. ¿Cómo se ve en código?\n",
    "# Usar esta estructura básica:\n",
    "\n",
    "# def nombre_funcion(parametros):\n",
    "    # Paso 1: hacer algo\n",
    "    # Paso 2: hacer otra cosa\n",
    "    # Paso 3: devuelvo el resultado con return \n",
    "        # return resultado   → entrega el resultado para guardarlo o reutilizarlo fuera de la función\n",
    "    # Paso 4: ¿Cómo la pruebo? Imprimo el resultado Con print()\n",
    "        # print(resultado)  → solo lo muestra en pantalla, no lo guarda ni lo devuelve\n",
    "\n"
   ]
  },
  {
   "cell_type": "code",
   "execution_count": null,
   "id": "51227b31",
   "metadata": {},
   "outputs": [],
   "source": [
    "# 2. Funciones\n",
    "# 2.1. agregar_producto(nombre, precio, cantidad):\n",
    "# Agrega un producto al inventario o actualiza su cantidad si ya existe. \n",
    "# Debe recibir el nombre, precio y cantidad del producto como parámetros.\n",
    "# Itera a través del inventario y compara los nombres de los productos con el nombre proporcionado.\n",
    "# Si el producto ya existe, actualiza la cantidad.\n",
    "# Si no existe, agrega un nuevo producto al inventario\n"
   ]
  },
  {
   "cell_type": "code",
   "execution_count": null,
   "id": "97c6e3e6",
   "metadata": {},
   "outputs": [],
   "source": [
    "# aplicar lógica:\n",
    "#  1. ¿Qué quiero que haga la función?\n",
    "# Agregar un producto al inventario o actualizar su cantidad si ya existe. \n",
    "\n",
    "# 2. ¿Qué datos necesita para funcionar?\n",
    "# Enumerar los datos que necesita recibir → serán los parámetros.\n",
    "# Parámetro 1: ¿Dónde quiero consultar o modificar?\n",
    "# → Ese será el contexto: inventario (lista de diccionarios)\n",
    "# Parámetros 2, 3, ...: ¿Qué quiero consultar, buscar, agregar o cambiar?\n",
    "# → Esos serán los datos específicos: \n",
    "# nombre: nombre del producto\n",
    "# precio: precio del producto\n",
    "# cantidad: cantidad a agregar\n",
    "\n",
    "# Quedando: def agregar_producto(inventario, nombre, precio, cantidad):\n",
    "# El inventario no está incluido como parámetro en el enunciado, pero la función necesita acceder a él.\n",
    "# Una función solo puede usar los datos que recibe como parámetros. \n",
    "# Si queremos que trabaje con un inventario, debemos pasárselo como parámetro. \n",
    "# Aunque tengamos nombre, precio y cantidad, la función necesita el inventario para saber si ese producto ya existe y dónde actualizarlo. \n",
    "# Sin el inventario, no hay forma de buscar ni modificar nada.\n",
    "\n",
    "# 3. ¿Qué nombre le pongo?\n",
    "# nombre definido en el enunciado: agregar_producto(inventario, nombre, precio, cantidad)\n",
    "\n",
    "# 4. ¿Qué pasos debe seguir?\n",
    "# Iterar a través del inventario.\n",
    "# Compara los nombres de los productos con el nombre proporcionado.\n",
    "# Si el producto ya existe, actualiza la cantidad.\n",
    "# Si no existe, agrega un nuevo producto al inventario\n",
    "\n",
    "# 5. ¿Cómo se ve en código?\n",
    "# Usar esta estructura básica:\n",
    "\n",
    "# def agregar_producto(nombre, precio, cantidad):\n",
    "    # Paso 1: hacer algo\n",
    "    # Paso 2: hacer otra cosa\n",
    "    # Paso 3: devuelvo el resultado con return \n",
    "        # return resultado   → entrega el resultado para guardarlo o reutilizarlo fuera de la función\n",
    "    # Paso 4: ¿Cómo la pruebo? Imprimo el resultado Con print()\n",
    "        # print(resultado)  → solo lo muestra en pantalla, no lo guarda ni lo devuelve"
   ]
  }
 ],
 "metadata": {
  "kernelspec": {
   "display_name": "Python 3",
   "language": "python",
   "name": "python3"
  },
  "language_info": {
   "codemirror_mode": {
    "name": "ipython",
    "version": 3
   },
   "file_extension": ".py",
   "mimetype": "text/x-python",
   "name": "python",
   "nbconvert_exporter": "python",
   "pygments_lexer": "ipython3",
   "version": "3.13.7"
  }
 },
 "nbformat": 4,
 "nbformat_minor": 5
}
