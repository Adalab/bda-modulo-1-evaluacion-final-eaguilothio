{
 "cells": [
  {
   "cell_type": "code",
   "execution_count": 58,
   "id": "b2a5b9d0",
   "metadata": {},
   "outputs": [
    {
     "name": "stdout",
     "output_type": "stream",
     "text": [
      "<class 'list'>\n",
      "<class 'dict'>\n",
      "<class 'float'>\n"
     ]
    }
   ],
   "source": [
    "# Estructura\n",
    "# Vamos a tener tres estructuras principales con las que vamos a trabajar:\n",
    "\n",
    "# 1. inventario (lista de diccionarios)\n",
    "# Debe ser una lista vacía al principio, tal como se indica. \n",
    "# El ejercicio pide que la lista completa esté vacía, no que contenga un producto vacío. \n",
    "# La estructura [{}] no es correcta ya contiene un elemento por lo que no está vacía.\n",
    "# Si quisiera un ejemplo de producto con claves vacías, la estructura correcta sería: producto_vacio = {\"nombre\": \"\", \"precio:0.0, \"cantidad\": 0}\n",
    "# Pero, el ejercicio solo pide la lista vacía. \n",
    "\n",
    "inventario = []\n",
    "\n",
    "# 2. clientes (diccionario)\n",
    "# Falta información sobre si el diccionario está vacío o no.\n",
    "# Dado que anteriormente se especificó la lista vacía y se mostró ejemplo de cómo debía ser.\n",
    "# Interpreto que, al no haber mención explícita en este caso, se asume que el diccionario que aparece es el que debo usar.\n",
    "# El diccionario clientes está compuesto por pares clave-valor, donde cada clave es el nombre de un cliente (como 'Ana García') y su valor es otro diccionario con información como el email y una lista de compras vacía.\n",
    "\n",
    "clientes = { 'Ana García': {'email': 'ana.garcia@email.com', 'compras': []},\n",
    "    'Luis Fernández': {'email': 'luis.fernandez@email.com', 'compras': []},\n",
    "    'María López': {'email': 'maria.lopez@email.com', 'compras': []},\n",
    "    'Carlos Ruiz': {'email': 'carlos.ruiz@email.com', 'compras': []},\n",
    "    'Elena Martín': {'email': 'elena.martin@email.com', 'compras': []},\n",
    "    'Javier Torres': {'email': 'javier.torres@email.com', 'compras': []},\n",
    "    'Lucía Sánchez': {'email': 'lucia.sanchez@email.com', 'compras': []},\n",
    "    'Sergio Díaz': {'email': 'sergio.diaz@email.com', 'compras': []},\n",
    "    'Patricia Ramos': {'email': 'patricia.ramos@email.com', 'compras': []},\n",
    "    'Diego Navarro': {'email': 'diego.navarro@email.com', 'compras': []} }\n",
    "\n",
    "# 3. ventas_totales (float)\n",
    "ventas_totales = 0.0\n",
    "# 0.0 es la forma más directa y recomendada para inicializar un número decimal (float). \n",
    "# float(0) se usa cuando partimos de un valor cuyo tipo no es compatible (por ejemplo, una cadena o entero) y necesitamos convertirlo explícitamente a float.\n",
    "\n",
    "# Evitar errores: print(type()). \n",
    "# Es una forma sencilla de confirmar que no cometí un error accidentalmente. \n",
    "# Por ejemplo, si hubiera escrito inventario = {} (un diccionario), type() me lo indicaría inmediatamente. \n",
    "\n",
    "print(type(inventario))\n",
    "print(type(clientes))\n",
    "print(type(ventas_totales))\n"
   ]
  },
  {
   "cell_type": "code",
   "execution_count": 59,
   "id": "e85e2efa",
   "metadata": {},
   "outputs": [
    {
     "name": "stdout",
     "output_type": "stream",
     "text": [
      "[]\n",
      "{'Ana García': {'email': 'ana.garcia@email.com', 'compras': []}, 'Luis Fernández': {'email': 'luis.fernandez@email.com', 'compras': []}, 'María López': {'email': 'maria.lopez@email.com', 'compras': []}, 'Carlos Ruiz': {'email': 'carlos.ruiz@email.com', 'compras': []}, 'Elena Martín': {'email': 'elena.martin@email.com', 'compras': []}, 'Javier Torres': {'email': 'javier.torres@email.com', 'compras': []}, 'Lucía Sánchez': {'email': 'lucia.sanchez@email.com', 'compras': []}, 'Sergio Díaz': {'email': 'sergio.diaz@email.com', 'compras': []}, 'Patricia Ramos': {'email': 'patricia.ramos@email.com', 'compras': []}, 'Diego Navarro': {'email': 'diego.navarro@email.com', 'compras': []}}\n",
      "0.0\n"
     ]
    }
   ],
   "source": [
    "# Confirmar contenido de las variables\n",
    "# Determinar la clase (tipo) de la variable con print(type(...)) debe hacerse primero. \n",
    "# Esto valida que la variable fue inicializada con la estructura de datos correcta (lista, diccionario, flotante, etc.). \n",
    "# Esto es una verificación de la forma de la estructura.\n",
    "\n",
    "# Imprimir el contenido de la variable con print(nombre_variable) debe hacerse después. \n",
    "# Esto valida que, una vez que la forma es correcta, el contenido que se esperaba (la lista vacía, el diccionario con clientes iniciales, el valor 0.0, etc.) se ha cargado correctamente. \n",
    "# Esto es una verificación del contenido de la estructura.\n",
    "\n",
    "print(inventario)\n",
    "print(clientes)\n",
    "print(ventas_totales)"
   ]
  },
  {
   "cell_type": "code",
   "execution_count": 60,
   "id": "57e015b4",
   "metadata": {},
   "outputs": [],
   "source": [
    "#  Mi lógica de programación\n",
    "#  1. ¿Qué quiero que haga la función?\n",
    "# Escribir el objetivo en una frase clara.\n",
    "\n",
    "# 2. ¿Qué datos necesita para funcionar?\n",
    "# Enumerar los datos que necesita recibir → serán los parámetros.\n",
    "# Parámetro 1: ¿Dónde quiero consultar o modificar?\n",
    "# → Ese será el contexto: lista, diccionario, conjunto, etc.\n",
    "# Parámetros 2, 3, ...: ¿Qué quiero consultar, buscar, agregar o cambiar?\n",
    "# → Esos serán los datos específicos: nombre, clave, valor, cantidad, etc.\n",
    "\n",
    "# 3. ¿Qué nombre le pongo?\n",
    "# Usar un verbo + acción concreta. \n",
    "# Ejemplos: \n",
    "# verificar_par() → verifica si un número es par\n",
    "# calcular_total()  → calcula el total de algo\n",
    "# traducir_palabra() → traduce una palabra\n",
    "\n",
    "# 4. ¿Qué pasos debe seguir?\n",
    "# Escribir los pasos como instrucciones simples.\n",
    "# Ejemplo:\n",
    "# Recibir parámetros: inventario, nombre, precio, cantidad.\n",
    "# Recorrer la lista: for producto in inventario:.\n",
    "# Acceder a un campo del producto: producto[\"nombre\"], producto[\"cantidad\"], producto[\"precio\"].\n",
    "# Comparar nombres: if producto[\"nombre\"] == nombre:.\n",
    "# Sumar cantidad (incrementar): producto[\"cantidad\"] += cantidad.\n",
    "# Añadir al final de la lista: inventario.append(nuevo).\n",
    "# Devolver el resultado: return inventario.\n",
    "# Salir del bucle si ya se actualizó: break o usar return inmediatamente.\n",
    "# Comprobar longitud: len(inventario) para saber cuántos productos hay.\n",
    "# Obtener índice si lo necesitas: i = inventario.index(producto) (si conoces el objeto) o usar for i, producto in enumerate(lista, diccionario…):.\n",
    "# Eliminar un producto: inventario.remove(producto) o inventario.pop(i).\n",
    "# Hacer copia si no quieres modificar la original: cop = inventario.copy(). \n",
    "# Validar tipos/valores básicos: isinstance(cantidad, int); if cantidad <= 0: ....\n",
    "\n",
    "# Usar try/except alrededor de operaciones que pueden fallar para capturar y transformar errores.\n",
    "\n",
    "# ¿Cómo se ve en código?\n",
    "# Usar esta estructura básica:\n",
    "\n",
    "# def nombre_funcion(parametros):\n",
    "    # instrucciones (pasos)\n",
    "    # Paso 1: hacer algo\n",
    "    # Paso 2: hacer otra cosa\n",
    "    # Paso 3: devuelvo el resultado con return \n",
    "        # return resultado   → entrega el resultado para guardarlo o reutilizarlo fuera de la función\n",
    "    # Paso 4: ¿Cómo la pruebo? Imprimo el resultado Con print()\n",
    "        # print(resultado)  → solo lo muestra en pantalla, no lo guarda ni lo devuelve\n",
    "\n"
   ]
  },
  {
   "cell_type": "code",
   "execution_count": 61,
   "id": "51227b31",
   "metadata": {},
   "outputs": [],
   "source": [
    "# 2. Funciones\n",
    "# 2.1. agregar_producto(nombre, precio, cantidad):\n",
    "# Agrega un producto al inventario o actualiza su cantidad si ya existe. \n",
    "# Debe recibir el nombre, precio y cantidad del producto como parámetros.\n",
    "# Itera a través del inventario y compara los nombres de los productos con el nombre proporcionado.\n",
    "# Si el producto ya existe, actualiza la cantidad.\n",
    "# Si no existe, agrega un nuevo producto al inventario\n"
   ]
  },
  {
   "cell_type": "code",
   "execution_count": 62,
   "id": "97c6e3e6",
   "metadata": {},
   "outputs": [],
   "source": [
    "# Aplicar lógica. Ejercicio 1:\n",
    "\n",
    "#  1. ¿Qué quiero que haga la función?\n",
    "    # Agregar un producto al inventario o actualizar su cantidad si ya existe. \n",
    "\n",
    "# 2. ¿Qué datos necesita para funcionar?\n",
    "    # Enumerar los datos que necesita recibir → serán los parámetros.\n",
    "        # Parámetro 1: ¿Dónde quiero consultar o modificar?\n",
    "            # → Ese será el contexto: inventario (lista de diccionarios)\n",
    "        # Parámetros 2, 3, ...: ¿Qué quiero consultar, buscar, agregar o cambiar?\n",
    "            # → Esos serán los datos específicos: \n",
    "                # nombre: nombre del producto\n",
    "                # precio: precio del producto\n",
    "                # cantidad: cantidad a agregar\n",
    "\n",
    "    #Discrepancia enunciado # El inventario no está incluido como parámetro en el enunciado, pero la función necesita acceder a él.\n",
    "                            # Una función solo puede usar los datos que recibe como parámetros. \n",
    "                            # Si queremos que trabaje con un inventario, debemos pasárselo como parámetro. \n",
    "                            # Aunque tengamos nombre, precio y cantidad, la función necesita el inventario para saber si ese producto ya existe y dónde actualizarlo. \n",
    "                            # Sin el inventario, no hay forma de buscar ni modificar nada.\n",
    "\n",
    "# 3. ¿Qué nombre le pongo?\n",
    "    # nombre definido en el enunciado: def agregar_producto(inventario, nombre, precio, cantidad)\n",
    "\n",
    "# 4. ¿Qué pasos debe seguir?\n",
    "\n",
    "# nos piden\n",
    "    # 4.1. Debe recibir el nombre, precio y cantidad del producto como parámetros\n",
    "    # 4.2. Itera a través del inventario \n",
    "    # 4.3. compara los nombres de los productos con el nombre proporcionado.\n",
    "    # 4.4. Si el producto ya existe, actualiza la cantidad.\n",
    "    # 4.5. Si no existe, agrega un nuevo producto al inventario\n",
    "\n",
    "    # 4.1. Recibir parámetros: def agregar_producto(inventario, nombre, precio, cantidad):\n",
    "            # inventario: lista de diccionarios donde buscar y modificar.\n",
    "            # nombre, precio, cantidad: datos del producto a añadir o actualizar.\n",
    "\n",
    "    # 4.2. Iterar a través del inventario: for producto in inventario:\n",
    "\t      # Iniciamos un bucle. Esto significa: \"Voy a revisar cada elemento de la lista inventario uno por uno. En cada vuelta, llamaré a ese elemento producto.\"\n",
    "    \n",
    "    # 4.3. Ver si existe. Comparar los nombres de los productos con el nombre proporcionado.\n",
    "        # if producto[\"nombre\"].lower() == nombre.lower()\n",
    "        # Si en tu lista tienes \"Camisa\" y el usuario busca \"camisa\", la comparación falla. \n",
    "        # La función cree que no existe y, por lo tanto, la agrega como un nuevo producto, duplicando el producto. \n",
    "        # Python es sensible a mayúsculas y minúsculas (case-sensitivity). Para Python, la palabra \"Bufanda\" NO es igual a \"bufanda\".\n",
    "\n",
    "    # 4.4. Si el producto ya existe, actualizar la cantidad.\n",
    "         # ¡Existe!\n",
    "         # producto[\"cantidad\"] += cantidad\n",
    "         # return inventario # El return marca el final de la función y devuelve un resultado \n",
    "\n",
    "    # 4.5. No existe, agrega un nuevo producto al inventario.\n",
    "        # inventario.append(nuevo_producto) # solo podemos aplicar el append en una lista\n",
    "        # return inventario\n",
    "\n",
    "    # 4.6. Hemos creado la estructura, la función. \n",
    "        # Llamamos a la función\n",
    "        # Mostramos el inventario\n"
   ]
  },
  {
   "cell_type": "code",
   "execution_count": null,
   "id": "0e88b9c9",
   "metadata": {},
   "outputs": [
    {
     "name": "stdout",
     "output_type": "stream",
     "text": [
      "[]\n"
     ]
    }
   ],
   "source": [
    "\n",
    "# ¿Cómo se ve en código?\n",
    "# Estructura según mi lógica\n",
    "# Sin else:\n",
    "\n",
    "def agregar_producto(inventario, nombre, precio, cantidad):\n",
    "    for producto in inventario: # # 4.2. Iterar sobre cada producto en la lista. Objetivo del for: Revisar si el producto YA está en el inventario. Empezamos a revisar el inventario, un producto a la vez.\n",
    "        if producto[\"nombre\"].lower() == nombre.lower():  # 4.3. Ver si existe. Usar lower() para no duplicar productos (Case-Insensitive): que detecte Camisa y camisa como el mismo producto.\n",
    "            producto[\"cantidad\"] += cantidad  # 4.4. Si el producto ya existe, actualiza la cantidad. ¡Encontrado! Sumamos la nueva cantidad a la cantidad existente.\n",
    "            return inventario  # El return marca el final de la función y devuelve un resultado \n",
    "        \n",
    "    nuevo_producto = {\"nombre\": nombre,        # 4.5. Si no existe (el bucle del for terminó sin encontrar coincidencia), agregar un nuevo producto: crear el nuevo diccionario. No dentro del for porque ya terminó.\n",
    "                    \"precio\": precio,       \n",
    "                    \"cantidad\": cantidad }     \n",
    "    inventario.append(nuevo_producto) #inventario es una lista y podemos aplicar append a una lista. \n",
    "    return inventario # Devolver el inventario modificado\n",
    "\n",
    "print(inventario) #ver lo que contiene el inventario\n",
    " "
   ]
  },
  {
   "cell_type": "code",
   "execution_count": null,
   "id": "f69974d1",
   "metadata": {},
   "outputs": [
    {
     "name": "stdout",
     "output_type": "stream",
     "text": [
      "[]\n"
     ]
    }
   ],
   "source": [
    "# Con else:\n",
    "def agregar_producto(inventario, nombre, precio, cantidad):\n",
    "    for producto in inventario: #por cada producto del inventario...\n",
    "        if producto[\"nombre\"].lower() == nombre.lower():\n",
    "            producto[\"cantidad\"] += cantidad\n",
    "            return inventario  # ← si lo encuentra, termina aquí\n",
    "    else:  # ← # se ejecuta solo si el for terminó todo su recorrido sin romperse ( por eso no va dentro del for)\n",
    "        nuevo_producto = {\n",
    "            \"nombre\": nombre,\n",
    "            \"precio\": precio,\n",
    "            \"cantidad\": cantidad\n",
    "        }\n",
    "        inventario.append(nuevo_producto)\n",
    "        return inventario\n",
    "\n",
    "print(inventario)"
   ]
  },
  {
   "cell_type": "code",
   "execution_count": 65,
   "id": "959cc4f1",
   "metadata": {},
   "outputs": [],
   "source": [
    "# Aunque el inventario esté vacío al principio, la lógica está diseñada para funcionar siempre, sin importar el estado inicial. \n",
    "# Si el inventario tiene productos, el for revisa si ya existe → actualiza o agrega.\n",
    "# Si el inventario está vacío, el for no entra → pasa directo al append.\n"
   ]
  },
  {
   "cell_type": "code",
   "execution_count": 66,
   "id": "25405d54",
   "metadata": {},
   "outputs": [
    {
     "name": "stdout",
     "output_type": "stream",
     "text": [
      "[{'nombre': 'camisa', 'precio': 20, 'cantidad': 40}]\n"
     ]
    }
   ],
   "source": [
    "# Si quisieramos agregar un producto cualquiera:\n",
    "\n",
    "# Llamamos a la función\n",
    "agregar_producto(inventario, \"camisa\", 20, 40)\n",
    "\n",
    "# Mostramos el inventario\n",
    "print(inventario)"
   ]
  },
  {
   "cell_type": "code",
   "execution_count": 67,
   "id": "b9473afe",
   "metadata": {},
   "outputs": [],
   "source": [
    "# 2. ver_inventario(): Muestra el inventario de productos con sus detalles.\n",
    "# Utiliza un bucle for para recorrer el inventario.\n",
    "# Imprime los detalles (nombre, precio, cantidad) de cada producto."
   ]
  },
  {
   "cell_type": "code",
   "execution_count": 68,
   "id": "a5647ee0",
   "metadata": {},
   "outputs": [],
   "source": [
    "# Aplicar lógica. Ejercicio 2:\n",
    "\n",
    "#  1. ¿Qué quiero que haga la función?\n",
    "# Mostrar el inventario de productos con sus detalles.\n",
    "# Utilizar un bucle for para recorrer el inventario.\n",
    "# Imprimir los detalles (nombre, precio, cantidad) de cada producto.\n",
    "\n",
    "# 2. ¿Qué datos necesita para funcionar?\n",
    "        # Parámetro 1: inventario (lista de diccionarios)\n",
    "        # Parámetros 2, 3, ...: \n",
    "                # nombre: nombre del producto\n",
    "                # precio: precio del producto\n",
    "                # cantidad: cantidad a agregar\n",
    "\n",
    "# 3. ¿Qué nombre le pongo?\n",
    "# nombre definido en el enunciado: def ver_inventario(inventario, nombre, precio, cantidad))\n",
    "\n",
    "# 4. ¿Qué pasos debe seguir?\n",
    "# 4.1. Mostrar el inventario de productos con sus detalles. \n",
    "# 4.2. Utilizar un bucle for para recorrer el inventario.\n",
    "# 4.3. Imprimir los detalles (nombre, precio, cantidad) de cada producto: print()\n",
    "\n"
   ]
  },
  {
   "cell_type": "code",
   "execution_count": 69,
   "id": "e0122df4",
   "metadata": {},
   "outputs": [
    {
     "name": "stdout",
     "output_type": "stream",
     "text": [
      "[{'nombre': 'Camisa', 'precio': 20, 'cantidad': 40}, {'nombre': 'Pantalón', 'precio': 30, 'cantidad': 30}, {'nombre': 'Zapatos', 'precio': 50, 'cantidad': 25}, {'nombre': 'Chaqueta', 'precio': 70, 'cantidad': 15}, {'nombre': 'Falda', 'precio': 25, 'cantidad': 20}, {'nombre': 'Gorra', 'precio': 10, 'cantidad': 50}, {'nombre': 'Bufanda', 'precio': 15, 'cantidad': 35}, {'nombre': 'Calcetines', 'precio': 5, 'cantidad': 100}, {'nombre': 'Cinturón', 'precio': 12, 'cantidad': 40}, {'nombre': 'Bolso', 'precio': 45, 'cantidad': 18}]\n"
     ]
    }
   ],
   "source": [
    "# 4.1. mostrar productos. No especifica si lo quiere visualmente mejor, por lo que podemos usar el print.  \n",
    " \n",
    "inventario = [ {'nombre': 'Camisa', 'precio': 20, 'cantidad': 40}, \n",
    "    {'nombre': 'Pantalón', 'precio': 30, 'cantidad': 30}, \n",
    "    {'nombre': 'Zapatos', 'precio': 50, 'cantidad': 25}, \n",
    "    {'nombre': 'Chaqueta', 'precio': 70, 'cantidad': 15}, \n",
    "    {'nombre': 'Falda', 'precio': 25, 'cantidad': 20}, \n",
    "    {'nombre': 'Gorra', 'precio': 10, 'cantidad': 50}, \n",
    "    {'nombre': 'Bufanda', 'precio': 15, 'cantidad': 35}, \n",
    "    {'nombre': 'Calcetines', 'precio': 5, 'cantidad': 100}, \n",
    "    {'nombre': 'Cinturón', 'precio': 12, 'cantidad': 40}, \n",
    "    {'nombre': 'Bolso', 'precio': 45, 'cantidad': 18}] \n",
    "print(inventario)\n",
    "\n"
   ]
  },
  {
   "cell_type": "code",
   "execution_count": null,
   "id": "8c2ecf95",
   "metadata": {},
   "outputs": [],
   "source": [
    "\n",
    "        "
   ]
  },
  {
   "cell_type": "code",
   "execution_count": 70,
   "id": "be868806",
   "metadata": {},
   "outputs": [],
   "source": [
    "#  Mi lógica de programación\n",
    "#  1. ¿Qué quiero que haga la función?\n",
    "# Escribir el objetivo en una frase clara.\n",
    "# 2. ¿Qué datos necesita para funcionar?\n",
    "# Enumerar los datos que necesita recibir → serán los parámetros.\n",
    "# Parámetro 1: ¿Dónde quiero consultar o modificar?\n",
    "# → Ese será el contexto: lista, diccionario, conjunto, etc.\n",
    "# Parámetros 2, 3, ...: ¿Qué quiero consultar, buscar, agregar o cambiar?\n",
    "# → Esos serán los datos específicos: nombre, clave, valor, cantidad, etc.\n",
    "# 3. ¿Qué nombre le pongo?\n",
    "# Usar un verbo + acción concreta. \n",
    "# 4. ¿Qué pasos debe seguir?"
   ]
  }
 ],
 "metadata": {
  "kernelspec": {
   "display_name": "Python 3",
   "language": "python",
   "name": "python3"
  },
  "language_info": {
   "codemirror_mode": {
    "name": "ipython",
    "version": 3
   },
   "file_extension": ".py",
   "mimetype": "text/x-python",
   "name": "python",
   "nbconvert_exporter": "python",
   "pygments_lexer": "ipython3",
   "version": "3.13.7"
  }
 },
 "nbformat": 4,
 "nbformat_minor": 5
}
