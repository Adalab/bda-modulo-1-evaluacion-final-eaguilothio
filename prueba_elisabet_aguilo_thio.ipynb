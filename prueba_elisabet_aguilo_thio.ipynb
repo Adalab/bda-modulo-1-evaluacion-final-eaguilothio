{
 "cells": [
  {
   "cell_type": "code",
   "execution_count": 4,
   "id": "b2a5b9d0",
   "metadata": {},
   "outputs": [
    {
     "data": {
      "text/plain": [
       "[{'nombre': 'Camisa', 'precio': 20, 'cantidad': 40},\n",
       " {'nombre': 'Pantalón', 'precio': 30, 'cantidad': 30},\n",
       " {'nombre': 'Zapatos', 'precio': 50, 'cantidad': 25},\n",
       " {'nombre': 'Chaqueta', 'precio': 70, 'cantidad': 15},\n",
       " {'nombre': 'Falda', 'precio': 25, 'cantidad': 20},\n",
       " {'nombre': 'Gorra', 'precio': 10, 'cantidad': 50},\n",
       " {'nombre': 'Bufanda', 'precio': 15, 'cantidad': 35},\n",
       " {'nombre': 'Calcetines', 'precio': 5, 'cantidad': 100},\n",
       " {'nombre': 'Cinturón', 'precio': 12, 'cantidad': 40},\n",
       " {'nombre': 'Bolso', 'precio': 45, 'cantidad': 18}]"
      ]
     },
     "execution_count": 4,
     "metadata": {},
     "output_type": "execute_result"
    }
   ],
   "source": [
    "# Estructura\n",
    "# Vamos a tener tres estructuras principales con las que vamos a trabajar:\n",
    "\n",
    "# 1. inventario (lista de diccionarios)\n",
    "# Un atributo para almacenar los productos en el inventario. Cada producto debe ser representado como un diccionario con las siguientes claves: 'nombre', 'precio', y 'cantidad'. Al principio deberá ser una lista vacía.\n",
    "\n",
    "# Ejemplo de cómo debería ser:\n",
    "\n",
    "[ {'nombre': 'Camisa', 'precio': 20, 'cantidad': 40}, \n",
    "    {'nombre': 'Pantalón', 'precio': 30, 'cantidad': 30}, \n",
    "    {'nombre': 'Zapatos', 'precio': 50, 'cantidad': 25}, \n",
    "    {'nombre': 'Chaqueta', 'precio': 70, 'cantidad': 15}, \n",
    "    {'nombre': 'Falda', 'precio': 25, 'cantidad': 20}, \n",
    "    {'nombre': 'Gorra', 'precio': 10, 'cantidad': 50}, \n",
    "    {'nombre': 'Bufanda', 'precio': 15, 'cantidad': 35}, \n",
    "    {'nombre': 'Calcetines', 'precio': 5, 'cantidad': 100}, \n",
    "    {'nombre': 'Cinturón', 'precio': 12, 'cantidad': 40}, \n",
    "    {'nombre': 'Bolso', 'precio': 45, 'cantidad': 18}]"
   ]
  }
 ],
 "metadata": {
  "kernelspec": {
   "display_name": "Python 3",
   "language": "python",
   "name": "python3"
  },
  "language_info": {
   "codemirror_mode": {
    "name": "ipython",
    "version": 3
   },
   "file_extension": ".py",
   "mimetype": "text/x-python",
   "name": "python",
   "nbconvert_exporter": "python",
   "pygments_lexer": "ipython3",
   "version": "3.13.7"
  }
 },
 "nbformat": 4,
 "nbformat_minor": 5
}
