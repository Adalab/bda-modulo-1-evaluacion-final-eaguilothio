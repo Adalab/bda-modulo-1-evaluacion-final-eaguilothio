{
 "cells": [
  {
   "cell_type": "code",
   "execution_count": 49,
   "id": "b2a5b9d0",
   "metadata": {},
   "outputs": [
    {
     "name": "stdout",
     "output_type": "stream",
     "text": [
      "<class 'list'>\n",
      "<class 'dict'>\n",
      "<class 'float'>\n"
     ]
    }
   ],
   "source": [
    "# Estructura\n",
    "# Vamos a tener tres estructuras principales con las que vamos a trabajar:\n",
    "\n",
    "# 1. inventario (lista de diccionarios)\n",
    "# Debe ser una lista vacía al principio, tal como se indica. \n",
    "# El ejercicio pide que la lista completa esté vacía, no que contenga un producto vacío. \n",
    "# La estructura [{}] no es correcta ya contiene un elemento por lo que no está vacía.\n",
    "# Si quisiera un ejemplo de producto con claves vacías, la estructura correcta sería: producto_vacio = {\"nombre\": \"\", \"precio:0.0, \"cantidad\": 0}\n",
    "# Pero, el ejercicio solo pide la lista vacía. \n",
    "\n",
    "inventario = []\n",
    "\n",
    "# 2. clientes (diccionario)\n",
    "# Falta información sobre si el diccionario está vacío o no.\n",
    "# Dado que anteriormente se especificó la lista vacía y se mostró ejemplo de cómo debía ser.\n",
    "# Interpreto que, al no haber mención explícita en este caso, se asume que el diccionario que aparece es el que debo usar.\n",
    "# El diccionario clientes está compuesto por pares clave-valor, donde cada clave es el nombre de un cliente (como 'Ana García') y su valor es otro diccionario con información como el email y una lista de compras vacía.\n",
    "\n",
    "clientes = {\n",
    "    \"Ana García\": {\"email\": \"ana.garcia@email.com\", \"compras\": []},\n",
    "    \"Luis Fernández\": {\"email\": \"luis.fernandez@email.com\", \"compras\": []},\n",
    "    \"María López\": {\"email\": \"maria.lopez@email.com\", \"compras\": []},\n",
    "    \"Carlos Ruiz\": {\"email\": \"carlos.ruiz@email.com\", \"compras\": []},\n",
    "    \"Elena Martín\": {\"email\": \"elena.martin@email.com\", \"compras\": []},\n",
    "    \"Javier Torres\": {\"email\": \"javier.torres@email.com\", \"compras\": []},\n",
    "    \"Lucía Sánchez\": {\"email\": \"lucia.sanchez@email.com\", \"compras\": []},\n",
    "    \"Sergio Díaz\": {\"email\": \"sergio.diaz@email.com\", \"compras\": []},\n",
    "    \"Patricia Ramos\": {\"email\": \"patricia.ramos@email.com\", \"compras\": []},\n",
    "    \"Diego Navarro\": {\"email\": \"diego.navarro@email.com\", \"compras\": []}\n",
    "    }\n",
    "\n",
    "# 3. ventas_totales (float)\n",
    "ventas_totales = 0.0\n",
    "# 0.0 es la forma más directa y recomendada para inicializar un número decimal (float). \n",
    "# float(0) se usa cuando partimos de un valor cuyo tipo no es compatible (por ejemplo, una cadena o entero) y necesitamos convertirlo explícitamente a float.\n",
    "\n",
    "# Evitar errores: print(type()). \n",
    "# Es una forma sencilla de confirmar que no cometí un error accidentalmente. \n",
    "# Por ejemplo, si hubiera escrito inventario = {} (un diccionario), type() me lo indicaría inmediatamente. \n",
    "\n",
    "print(type(inventario))\n",
    "print(type(clientes))\n",
    "print(type(ventas_totales))\n"
   ]
  },
  {
   "cell_type": "code",
   "execution_count": 50,
   "id": "e85e2efa",
   "metadata": {},
   "outputs": [
    {
     "name": "stdout",
     "output_type": "stream",
     "text": [
      "[]\n",
      "{'Ana García': {'email': 'ana.garcia@email.com', 'compras': []}, 'Luis Fernández': {'email': 'luis.fernandez@email.com', 'compras': []}, 'María López': {'email': 'maria.lopez@email.com', 'compras': []}, 'Carlos Ruiz': {'email': 'carlos.ruiz@email.com', 'compras': []}, 'Elena Martín': {'email': 'elena.martin@email.com', 'compras': []}, 'Javier Torres': {'email': 'javier.torres@email.com', 'compras': []}, 'Lucía Sánchez': {'email': 'lucia.sanchez@email.com', 'compras': []}, 'Sergio Díaz': {'email': 'sergio.diaz@email.com', 'compras': []}, 'Patricia Ramos': {'email': 'patricia.ramos@email.com', 'compras': []}, 'Diego Navarro': {'email': 'diego.navarro@email.com', 'compras': []}}\n",
      "0.0\n"
     ]
    }
   ],
   "source": [
    "# Confirmar contenido de las variables\n",
    "# Determinar la clase (tipo) de la variable con print(type(...)) debe hacerse primero. \n",
    "# Esto valida que la variable fue inicializada con la estructura de datos correcta (lista, diccionario, flotante, etc.). \n",
    "# Esto es una verificación de la forma de la estructura.\n",
    "\n",
    "# Imprimir el contenido de la variable con print(nombre_variable) debe hacerse después. \n",
    "# Esto valida que, una vez que la forma es correcta, el contenido que se esperaba (la lista vacía, el diccionario con clientes iniciales, el valor 0.0, etc.) se ha cargado correctamente. \n",
    "# Esto es una verificación del contenido de la estructura.\n",
    "\n",
    "print(inventario)\n",
    "print(clientes)\n",
    "print(ventas_totales)"
   ]
  },
  {
   "cell_type": "code",
   "execution_count": 51,
   "id": "51227b31",
   "metadata": {},
   "outputs": [],
   "source": [
    "# 2. Funciones\n",
    "# 2.1. agregar_producto(nombre, precio, cantidad):\n",
    "# Agrega un producto al inventario o actualiza su cantidad si ya existe. \n",
    "# Debe recibir el nombre, precio y cantidad del producto como parámetros.\n",
    "# Itera a través del inventario y compara los nombres de los productos con el nombre proporcionado.\n",
    "# Si el producto ya existe, actualiza la cantidad.\n",
    "# Si no existe, agrega un nuevo producto al inventario\n"
   ]
  },
  {
   "cell_type": "code",
   "execution_count": null,
   "id": "48c5a7fd",
   "metadata": {},
   "outputs": [
    {
     "name": "stdout",
     "output_type": "stream",
     "text": [
      "[{'nombre': 'Camisa', 'precio': 20, 'cantidad': 40}]\n"
     ]
    }
   ],
   "source": [
    "# 2.1. Definimos la función\n",
    "\n",
    "def agregar_producto(inventario, nombre, precio, cantidad):\n",
    "    # Objetivo: Agregar un producto al inventario o actualizar su cantidad si ya existe.\n",
    "    # Parámetros: (Los parámetros son los datos que una función necesita para funcionar) \n",
    "        # Inventario ( la lista de diccionario) → Qué estructura de datos vamos a modificar \n",
    "        # Nombre, precio y cantidad → Qué claves contiene cada diccionario para poder agregar sus valores\n",
    "    # Lógica: \n",
    "        # Si el producto existe → actualiza cantidad. \n",
    "        # Si no existe → lo agrega nuevo. \n",
    "    \n",
    "    for producto in inventario:  # Recorre todos los productos\n",
    "        if producto[\"nombre\"].lower() == nombre.lower():  # Ignora mayúsculas/minúsculas (lower sin case sensitive). Se evita duplicar productos gracias a lower().\n",
    "            producto[\"cantidad\"] += cantidad  # Actualiza cantidad existente\n",
    "            return inventario  # Devuelve el inventario actualizado\n",
    "\n",
    "    else: # Solo se ejecuta si no se encontró el producto y se agrega uno nuevo\n",
    "        inventario.append({\"nombre\": nombre, \"precio\": precio, \"cantidad\": cantidad})\n",
    "        return inventario  # Devuelve el inventario modificado\n",
    "\n",
    "# Ejemplo de uso\n",
    "inventario = []\n",
    "agregar_producto(inventario, \"Camisa\", 20, 40) #   Se agrega un producto cualquiera porque teníamos la lista vacia.\n",
    "print(inventario)\n"
   ]
  },
  {
   "cell_type": "code",
   "execution_count": 53,
   "id": "b9473afe",
   "metadata": {},
   "outputs": [],
   "source": [
    "# 2.2. ver_inventario(): \n",
    "# Muestra el inventario de productos con sus detalles.\n",
    "# Utiliza un bucle for para recorrer el inventario.\n",
    "# Imprime los detalles (nombre, precio, cantidad) de cada producto."
   ]
  },
  {
   "cell_type": "code",
   "execution_count": 54,
   "id": "33e770f6",
   "metadata": {},
   "outputs": [
    {
     "name": "stdout",
     "output_type": "stream",
     "text": [
      "Nombre: Camisa, Precio: 20 €, Cantidad: 40\n",
      "Nombre: Pantalón, Precio: 30 €, Cantidad: 30\n",
      "Nombre: Zapatos, Precio: 50 €, Cantidad: 25\n",
      "Nombre: Chaqueta, Precio: 70 €, Cantidad: 15\n",
      "Nombre: Falda, Precio: 25 €, Cantidad: 20\n",
      "Nombre: Gorra, Precio: 10 €, Cantidad: 50\n",
      "Nombre: Bufanda, Precio: 15 €, Cantidad: 35\n",
      "Nombre: Calcetines, Precio: 5 €, Cantidad: 100\n",
      "Nombre: Cinturón, Precio: 12 €, Cantidad: 40\n",
      "Nombre: Bolso, Precio: 45 €, Cantidad: 18\n",
      "Todos los productos han sido mostrados correctamente\n"
     ]
    }
   ],
   "source": [
    "# Solo teníamos 1 producto. Antes, [{'nombre': 'camisa', 'precio': 20, 'cantidad': 40}]\n",
    "# Si queremos productos con sus detalles, redefinimos el inventario.\n",
    "\n",
    "inventario = [ {\"nombre\": \"Camisa\", \"precio\": 20, \"cantidad\": 40}, \n",
    "    {\"nombre\": \"Pantalón\", \"precio\": 30, \"cantidad\": 30}, \n",
    "    {\"nombre\": \"Zapatos\", \"precio\": 50, \"cantidad\": 25}, \n",
    "    {\"nombre\": \"Chaqueta\", \"precio\": 70, \"cantidad\": 15}, \n",
    "    {\"nombre\": \"Falda\", \"precio\": 25, \"cantidad\": 20}, \n",
    "    {\"nombre\": \"Gorra\", \"precio\": 10, \"cantidad\": 50}, \n",
    "    {\"nombre\": \"Bufanda\", \"precio\": 15, \"cantidad\": 35}, \n",
    "    {\"nombre\": \"Calcetines\", \"precio\": 5, \"cantidad\": 100}, \n",
    "    {\"nombre\": \"Cinturón\", \"precio\": 12, \"cantidad\": 40}, \n",
    "    {\"nombre\": \"Bolso\", \"precio\": 45, \"cantidad\": 18}] \n",
    "\n",
    "# 2.2. Definimos la función\n",
    "def ver_inventario(inventario):\n",
    "    # Objetivo: Mostrar los productos con sus detalles en el inventario.\n",
    "    # Parámetro:\n",
    "       # Inventario: Lista de diccionarios.\n",
    "         # Metáfora de la vitrina: imagina que tienes una vitrina con productos. Cada producto ya tiene su etiqueta con nombre, precio y cantidad. \n",
    "         # La función ver_inventario simplemente abre la vitrina y muestra cada etiqueta. \n",
    "            # No necesita que tú le digas “este es el nombre”, “este es el precio”… porque ya están visibles dentro del diccionario.\n",
    "    # Lógica: \n",
    "            # Si el inventario está vacío → se sale \n",
    "            # Si hay producto dentro del inventario → busca sus claves e imprime los detalles (nombre, precio, cantidad) de cada producto.\n",
    "\n",
    "    if not inventario:  # El if not va primero para una salida rápida. Así, si no hay nada en la lista, el código termina al instante.\n",
    "        print(\"El inventario está vacío.\")\n",
    "        return  # Salimos si no hay productos\n",
    "\n",
    "    for producto in inventario: # Para cada producto dentro del inventario, el for nos busca su nombre, precio y cantidad y los muestra en pantalla\".\n",
    "        nombre = producto[\"nombre\"]\n",
    "        precio = producto[\"precio\"]\n",
    "        cantidad = producto[\"cantidad\"]\n",
    "        print(f\"Nombre: {nombre}, Precio: {precio} €, Cantidad: {cantidad}\")\n",
    "\n",
    "ver_inventario(inventario) # Llamamos a la función para que se ejecute\n",
    "print(f\"Todos los productos han sido mostrados correctamente\") #está fuera de la función, así NO se ejecuta siempre que sale un producto. Después de la función porque es más lógico mostrar el mensaje: \"Todos los productos han sido mostrados correctamente\", después de ver los productos.\n"
   ]
  },
  {
   "cell_type": "code",
   "execution_count": 55,
   "id": "271df414",
   "metadata": {},
   "outputs": [],
   "source": [
    "# 2.3. buscar_producto(nombre): \n",
    "# Busca un producto en el inventario por nombre y muestra sus detalles si se encuentra. Debe recibir el nombre del producto como parámetro.\n",
    "# Utiliza un bucle for para recorrer el inventario.\n",
    "# Compara los nombres de los productos con el nombre proporcionado.\n",
    "# Si se encuentra el producto, imprime sus detalles."
   ]
  },
  {
   "cell_type": "code",
   "execution_count": null,
   "id": "d43bb73d",
   "metadata": {},
   "outputs": [
    {
     "name": "stdout",
     "output_type": "stream",
     "text": [
      "Nombre: Zapatos, Precio: 50 €, Cantidad: 25\n",
      "No existe vestido\n"
     ]
    }
   ],
   "source": [
    "\n",
    "# 2.3. definimos la función\n",
    "\n",
    "def buscar_producto(inventario, nombre):\n",
    "      # Objetivo: Buscar un producto en el inventario por nombre y mostrar sus detalles si se encuentra. \n",
    "    # Parámetros:\n",
    "        # Inventario: la lista completa de productos (cada uno es un diccionario).\n",
    "        # nombre: el dato clave que se usa para comparar y encontrar el producto deseado.\n",
    "        # No necesitas precio ni cantidad, porque no estás creando ni modificando el producto. Solo estás consultando si existe. \n",
    "    # Lógica: \n",
    "        # Si el producto existe → muestra el producto encontrado.\n",
    "        # Si no existe → informa que no existe\n",
    "\n",
    "    for producto in inventario:\n",
    "        if producto[\"nombre\"].lower() == nombre.lower():    #  \n",
    "            precio = producto[\"precio\"]\n",
    "            cantidad = producto[\"cantidad\"] # Se extraen el precio y la cantidad del diccionario del producto para la construcción del mensaje de texto que se imprime.\n",
    "            print(f\"Nombre: {producto[\"nombre\"]}, Precio: {precio} €, Cantidad: {cantidad}\")\n",
    "            return producto   # Devuelve solo el producto encontrado\n",
    "    else: # debe ir al mismo nivel de indentación que el for porque el return dentro del if detiene toda la función. El else (y cualquier código posterior) nunca se alcanzaría.\n",
    "        print(f\"No existe {nombre}\")\n",
    "        return None ## Al usar return None, el código documenta explícitamente su intención de devolver un valor nulo para indicar el fracaso de la búsqueda.\n",
    "\n",
    "# Existe:\n",
    "nombre = \"zapatos\"\n",
    "resultado = buscar_producto(inventario, nombre)\n",
    "\n",
    "# No existe: \n",
    "nombre = \"vestido\"\n",
    "resultado = buscar_producto(inventario, nombre)\n"
   ]
  },
  {
   "cell_type": "code",
   "execution_count": 57,
   "id": "37c7f792",
   "metadata": {},
   "outputs": [],
   "source": [
    "# 4. actualizar_stock(nombre, cantidad): \n",
    "# Actualiza el stock de un producto en el inventario.\n",
    "# Debe recibir el nombre del producto y la cantidad a agregar o quitar como parámetros.\n",
    "# Utiliza un bucle for para recorrer el inventario.\n",
    "# Busca el producto por nombre.\n",
    "# Actualiza la cantidad según la entrada del usuario.\n",
    "# Si el producto no esta en el inventario muestra un mensaje indicándolo."
   ]
  },
  {
   "cell_type": "code",
   "execution_count": null,
   "id": "8101eb98",
   "metadata": {},
   "outputs": [
    {
     "name": "stdout",
     "output_type": "stream",
     "text": [
      "Stock de camisa actualizado. Nuevo stock: 90\n",
      "ERROR: El producto vestido no está en el inventario.\n"
     ]
    }
   ],
   "source": [
    "# 2.4. definimos la función\n",
    "\n",
    "def actualizar_stock(nombre, cantidad):\n",
    "      # Objetivo: Actualizar el stock de un producto en el inventario.\n",
    "    # Parámetros:\n",
    "        # Nombre: para comparar y encontrar el producto deseado.\n",
    "        # cantidad: No estás creando ni modificando el producto. Solo estás consultando si existe. \n",
    "    # Lógica: \n",
    "        # Si el producto existe → muestra el producto encontrado.\n",
    "        # Si no existe → informa que no existe\n",
    "    for producto in inventario:\n",
    "        if producto[\"nombre\"].lower() == nombre.lower():\n",
    "            producto[\"cantidad\"] += cantidad\n",
    "            print(f\"Stock de {nombre} actualizado. Nuevo stock: {producto['cantidad']}\")\n",
    "            return # Terminamos la función inmediatamente si encontramos el producto\n",
    "    \n",
    "    # Si la función llega aquí, significa que el bucle terminó sin encontrar el producto\n",
    "    print(f\"ERROR: El producto {nombre} no está en el inventario.\")\n",
    "\n",
    "actualizar_stock(\"camisa\", 50) # en inventario teníamos 40 camisas\n",
    "actualizar_stock(\"vestido\", 50) #no existe vestido\n"
   ]
  }
 ],
 "metadata": {
  "kernelspec": {
   "display_name": "Python 3",
   "language": "python",
   "name": "python3"
  },
  "language_info": {
   "codemirror_mode": {
    "name": "ipython",
    "version": 3
   },
   "file_extension": ".py",
   "mimetype": "text/x-python",
   "name": "python",
   "nbconvert_exporter": "python",
   "pygments_lexer": "ipython3",
   "version": "3.13.7"
  }
 },
 "nbformat": 4,
 "nbformat_minor": 5
}
