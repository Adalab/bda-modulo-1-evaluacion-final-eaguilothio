{
 "cells": [
  {
   "cell_type": "code",
   "execution_count": 5,
   "id": "b2a5b9d0",
   "metadata": {},
   "outputs": [
    {
     "name": "stdout",
     "output_type": "stream",
     "text": [
      "<class 'list'>\n",
      "<class 'dict'>\n",
      "<class 'float'>\n"
     ]
    }
   ],
   "source": [
    "# 1.Estructura\n",
    "# Vamos a tener tres estructuras principales con las que vamos a trabajar:\n",
    "\n",
    "# 1. inventario (lista de diccionarios)\n",
    "# Debe ser una lista vacía al principio, tal como se indica. \n",
    "# El ejercicio pide que la lista completa esté vacía, no que contenga un producto vacío. \n",
    "# La estructura [{}] no es correcta ya contiene un elemento por lo que no está vacía.\n",
    "# Si quisiera un ejemplo de producto con claves vacías, la estructura correcta sería: producto_vacio = {\"nombre\": \"\", \"precio:0.0, \"cantidad\": 0}\n",
    "# Pero, el ejercicio solo pide la lista vacía. \n",
    "\n",
    "inventario = []\n",
    "\n",
    "# 2. clientes (diccionario)\n",
    "# Falta información sobre si el diccionario está vacío o no.\n",
    "# Dado que anteriormente se especificó la lista vacía y se mostró ejemplo de cómo debía ser.\n",
    "# Interpreto que, al no haber mención explícita en este caso, se asume que el diccionario que aparece es el que debo usar.\n",
    "# El diccionario clientes está compuesto por pares clave-valor, donde cada clave es el nombre de un cliente (como 'Ana García') y su valor es otro diccionario con información como el email y una lista de compras vacía.\n",
    "\n",
    "clientes = {\n",
    "    \"Ana García\": {\"email\": \"ana.garcia@email.com\", \"compras\": []},\n",
    "    \"Luis Fernández\": {\"email\": \"luis.fernandez@email.com\", \"compras\": []},\n",
    "    \"María López\": {\"email\": \"maria.lopez@email.com\", \"compras\": []},\n",
    "    \"Carlos Ruiz\": {\"email\": \"carlos.ruiz@email.com\", \"compras\": []},\n",
    "    \"Elena Martín\": {\"email\": \"elena.martin@email.com\", \"compras\": []},\n",
    "    \"Javier Torres\": {\"email\": \"javier.torres@email.com\", \"compras\": []},\n",
    "    \"Lucía Sánchez\": {\"email\": \"lucia.sanchez@email.com\", \"compras\": []},\n",
    "    \"Sergio Díaz\": {\"email\": \"sergio.diaz@email.com\", \"compras\": []},\n",
    "    \"Patricia Ramos\": {\"email\": \"patricia.ramos@email.com\", \"compras\": []},\n",
    "    \"Diego Navarro\": {\"email\": \"diego.navarro@email.com\", \"compras\": []}\n",
    "    }\n",
    "\n",
    "# 3. ventas_totales (float)\n",
    "ventas_totales = 0.0\n",
    "# 0.0 es la forma más directa y recomendada para inicializar un número decimal (float). \n",
    "# float(0) se usa cuando partimos de un valor cuyo tipo no es compatible (por ejemplo, una cadena o entero) y necesitamos convertirlo explícitamente a float.\n",
    "\n",
    "# Evitar errores (type)\n",
    "# Es una forma sencilla de confirmar que no cometí un error accidentalmente. \n",
    "# Por ejemplo, si hubiera escrito inventario = {} (un diccionario), type() me lo indicaría inmediatamente. \n",
    "\n",
    "print(type(inventario))\n",
    "print(type(clientes))\n",
    "print(type(ventas_totales))\n"
   ]
  },
  {
   "cell_type": "code",
   "execution_count": 6,
   "id": "e85e2efa",
   "metadata": {},
   "outputs": [
    {
     "name": "stdout",
     "output_type": "stream",
     "text": [
      "[]\n",
      "{'Ana García': {'email': 'ana.garcia@email.com', 'compras': []}, 'Luis Fernández': {'email': 'luis.fernandez@email.com', 'compras': []}, 'María López': {'email': 'maria.lopez@email.com', 'compras': []}, 'Carlos Ruiz': {'email': 'carlos.ruiz@email.com', 'compras': []}, 'Elena Martín': {'email': 'elena.martin@email.com', 'compras': []}, 'Javier Torres': {'email': 'javier.torres@email.com', 'compras': []}, 'Lucía Sánchez': {'email': 'lucia.sanchez@email.com', 'compras': []}, 'Sergio Díaz': {'email': 'sergio.diaz@email.com', 'compras': []}, 'Patricia Ramos': {'email': 'patricia.ramos@email.com', 'compras': []}, 'Diego Navarro': {'email': 'diego.navarro@email.com', 'compras': []}}\n",
      "0.0\n"
     ]
    }
   ],
   "source": [
    "# Confirmar contenido de las variables\n",
    "# Determinar la clase (tipo) de la variable con print(type(...)) debe hacerse primero. \n",
    "# Esto valida que la variable fue inicializada con la estructura de datos correcta (lista, diccionario, flotante, etc.). \n",
    "# Esto es una verificación de la forma de la estructura.\n",
    "\n",
    "# Imprimir el contenido de la variable con print(nombre_variable) debe hacerse después. \n",
    "# Esto valida que, una vez que la forma es correcta, el contenido que se esperaba (la lista vacía, el diccionario con clientes iniciales, el valor 0.0, etc.) se ha cargado correctamente. \n",
    "# Esto es una verificación del contenido de la estructura.\n",
    "\n",
    "print(inventario)\n",
    "print(clientes)\n",
    "print(ventas_totales)"
   ]
  },
  {
   "cell_type": "code",
   "execution_count": 7,
   "id": "51227b31",
   "metadata": {},
   "outputs": [],
   "source": [
    "# 2. Funciones\n",
    "# 2.1. agregar_producto(nombre, precio, cantidad):\n",
    "# Agrega un producto al inventario o actualiza su cantidad si ya existe. \n",
    "# Debe recibir el nombre, precio y cantidad del producto como parámetros.\n",
    "# Itera a través del inventario y compara los nombres de los productos con el nombre proporcionado.\n",
    "# Si el producto ya existe, actualiza la cantidad.\n",
    "# Si no existe, agrega un nuevo producto al inventario\n"
   ]
  },
  {
   "cell_type": "code",
   "execution_count": 8,
   "id": "48c5a7fd",
   "metadata": {},
   "outputs": [
    {
     "name": "stdout",
     "output_type": "stream",
     "text": [
      " Producto agregado: camisa con precio 20€ y cantidad 40.\n"
     ]
    },
    {
     "data": {
      "text/plain": [
       "[{'nombre': 'camisa', 'precio': 20, 'cantidad': 40}]"
      ]
     },
     "execution_count": 8,
     "metadata": {},
     "output_type": "execute_result"
    }
   ],
   "source": [
    "# 2.1. Definimos la función\n",
    "\n",
    "def agregar_producto(inventario, nombre, precio, cantidad):\n",
    "    # Objetivo: Agregar un producto al inventario o actualizar su cantidad si ya existe.\n",
    "    # Parámetros: Se pasan entre paréntesis al definir la función y permiten que el código sea reutilizable. \n",
    "            # Inventario: lista de diccionarios que representa los productos disponibles.\n",
    "            # Nombre: cadena de texto con el nombre del producto.\n",
    "            # Precio: número (entero o decimal) que indica el costo del producto.\n",
    "            # Cantidad: número entero y mayor a 0 que representa cuántas unidades se agregan al inventario.\n",
    "    # Lógica: \n",
    "        # Validamos que los datos de entrada cumplan los criterios.\n",
    "        # Buscamos si el producto existe, actualizamos su cantidad si ya existe.\n",
    "        # Si no existe, agregamos nuevo producto\n",
    "\n",
    "    # Validamos que los datos de entrada cumplan con los criterios:\n",
    "\n",
    "    # Validar nombre: debe ser una cadena de texto\n",
    "    if not isinstance(nombre, str): #La expresión if not es una forma compacta de decir \"si esto no se cumple\" o \"si esto es falso\".\n",
    "        print(\"Error: El nombre debe ser un texto válido, no un espacio vacío\") \n",
    "        return inventario # Salida: no se modifica el inventario si el nombre no es válido\n",
    "\n",
    "    # Validar precio: debe ser int o float ( enteros o decimales), y mayor que 0 ( no números negativos)\n",
    "    if not isinstance(precio, (int, float)) or precio < 0:\n",
    "        print(\"Error: El precio debe ser un número positivo.\")\n",
    "        return inventario #Salida: evita agregar productos con precios inválidos\n",
    "\n",
    "    # Validar cantidad: debe ser int y mayor que 0\n",
    "    if not isinstance(cantidad, int) or cantidad < 0:\n",
    "        print(\"Error: La cantidad debe ser un número entero positivo.\")\n",
    "        return inventario #Salida: evita agregar productos con cantidades inválidas\n",
    "    \n",
    "    # Buscar si el producto ya existe\n",
    "    for producto in inventario: # Recorre todos los productos\n",
    "        if producto[\"nombre\"].lower() == nombre.lower(): # sin importar mayúsculas en los productos ( evitamos errores por duplicación). Detecta \"Camisa\" y \"camisa\" como mismo producto.\n",
    "            producto[\"cantidad\"] += cantidad # Actualiza cantidad existente\n",
    "            print(f\"Producto actualizado: {nombre} ahora tiene {producto['cantidad']} unidades.\")\n",
    "            return inventario  # Salida: se actualizó el producto existente, no hace falta continuar\n",
    "\n",
    "    # Este bloque solo se ejecuta si no se encontró el producto\n",
    "    inventario.append({\"nombre\": nombre, \"precio\": precio, \"cantidad\": cantidad})\n",
    "    print(f\" Producto agregado: {nombre} con precio {precio}€ y cantidad {cantidad}.\")\n",
    "    return inventario #Salida: se agregó un nuevo producto al inventario\n",
    "\n",
    "inventario = []\n",
    "agregar_producto(inventario, \"camisa\", 20, 40)\n"
   ]
  },
  {
   "cell_type": "code",
   "execution_count": 9,
   "id": "b9473afe",
   "metadata": {},
   "outputs": [],
   "source": [
    "# 2.2. ver_inventario()\n",
    "# Muestra el inventario de productos con sus detalles.\n",
    "# Utiliza un bucle for para recorrer el inventario.\n",
    "# Imprime los detalles (nombre, precio, cantidad) de cada producto."
   ]
  },
  {
   "cell_type": "code",
   "execution_count": 10,
   "id": "33e770f6",
   "metadata": {},
   "outputs": [
    {
     "name": "stdout",
     "output_type": "stream",
     "text": [
      "Nombre: Camisa, Precio: 20 €, Cantidad: 40\n",
      "Nombre: Pantalon, Precio: 30 €, Cantidad: 30\n",
      "Nombre: Zapatos, Precio: 50 €, Cantidad: 25\n",
      "Nombre: Chaqueta, Precio: 70 €, Cantidad: 15\n",
      "Nombre: Falda, Precio: 25 €, Cantidad: 20\n",
      "Nombre: Gorra, Precio: 10 €, Cantidad: 50\n",
      "Nombre: Bufanda, Precio: 15 €, Cantidad: 35\n",
      "Nombre: Calcetines, Precio: 5 €, Cantidad: 100\n",
      "Nombre: Cinturon, Precio: 12 €, Cantidad: 40\n",
      "Nombre: Bolso, Precio: 45 €, Cantidad: 18\n",
      "Todos los productos han sido mostrados correctamente\n"
     ]
    }
   ],
   "source": [
    "# Solo tenemos 1 producto en la lista: [{'nombre': 'camisa', 'precio': 20, 'cantidad': 40}]\n",
    "# Si queremos otros productos con sus detalles, redefinimos el inventario.\n",
    "\n",
    "inventario = [ \n",
    "    {\"nombre\": \"Camisa\", \"precio\": 20, \"cantidad\": 40}, \n",
    "    {\"nombre\": \"Pantalon\", \"precio\": 30, \"cantidad\": 30}, \n",
    "    {\"nombre\": \"Zapatos\", \"precio\": 50, \"cantidad\": 25}, \n",
    "    {\"nombre\": \"Chaqueta\", \"precio\": 70, \"cantidad\": 15}, \n",
    "    {\"nombre\": \"Falda\", \"precio\": 25, \"cantidad\": 20}, \n",
    "    {\"nombre\": \"Gorra\", \"precio\": 10, \"cantidad\": 50}, \n",
    "    {\"nombre\": \"Bufanda\", \"precio\": 15, \"cantidad\": 35}, \n",
    "    {\"nombre\": \"Calcetines\", \"precio\": 5, \"cantidad\": 100}, \n",
    "    {\"nombre\": \"Cinturon\", \"precio\": 12, \"cantidad\": 40}, \n",
    "    {\"nombre\": \"Bolso\", \"precio\": 45, \"cantidad\": 18}\n",
    "    ] \n",
    "\n",
    "# Se quitan los acentos de pantalón y cinturón para evitar errores al insertar los nombres.\n",
    "\n",
    "# 2.2. Definimos la función\n",
    "\n",
    "def ver_inventario(inventario):\n",
    "    # Objetivo: Mostrar los productos con sus detalles en el inventario.\n",
    "    # Parámetro:\n",
    "       # Inventario: Lista de diccionarios.\n",
    "         # Metáfora de la vitrina: imagina que tienes una vitrina con productos. Cada producto ya tiene su etiqueta con nombre, precio y cantidad. \n",
    "         # La función ver_inventario simplemente abre la vitrina y muestra cada etiqueta. \n",
    "            # No necesita que tú le digas “este es el nombre”, “este es el precio”… porque ya están visibles dentro del diccionario.\n",
    "    # Lógica: \n",
    "        # Si el inventario está vacío:\n",
    "            # Mostrar mensaje: \"El inventario está vacío.\"\n",
    "            # Salir de la función con return.\n",
    "         # Si el inventario tiene productos:\n",
    "            # Recorrer cada producto con un bucle for.\n",
    "            # Para cada producto:\n",
    "            # Extraer nombre, precio y cantidad.\n",
    "            # Mostrar los detalles en pantalla.\n",
    "\n",
    "    if not inventario:  # Si el inventario está vacío, haz esto\n",
    "        print(\"El inventario está vacío.\") # mostramos mensaje de está vacío\n",
    "        return  # si el inventario está vacío, salimos rápido. return a secas no devuelve nada (equivale a return None), solo termina la función sin entregar información.\n",
    "\n",
    "    for producto in inventario: # Recorremos cada producto de la vitrina, uno por uno.\n",
    "        nombre = producto[\"nombre\"] #Extraemos los datos de las etiquetas de diccionarios.\n",
    "        precio = producto[\"precio\"]\n",
    "        cantidad = producto[\"cantidad\"]\n",
    "        print(f\"Nombre: {nombre}, Precio: {precio} €, Cantidad: {cantidad}\") #Se imprime mensaje\n",
    "\n",
    "# Pruebas\n",
    "ver_inventario(inventario) # Llamamos a la función para que se ejecute\n",
    "print(f\"Todos los productos han sido mostrados correctamente\") #está fuera de la función, así NO se ejecuta siempre que sale un producto. Después de la función porque es más lógico mostrar el mensaje: \"Todos los productos han sido mostrados correctamente\", después de ver los productos.\n"
   ]
  },
  {
   "cell_type": "code",
   "execution_count": 11,
   "id": "271df414",
   "metadata": {},
   "outputs": [],
   "source": [
    "# 2.3. buscar_producto(nombre)\n",
    "\n",
    "# Busca un producto en el inventario por nombre y muestra sus detalles si se encuentra. Debe recibir el nombre del producto como parámetro.\n",
    "# Utiliza un bucle for para recorrer el inventario.\n",
    "# Compara los nombres de los productos con el nombre proporcionado.\n",
    "# Si se encuentra el producto, imprime sus detalles."
   ]
  },
  {
   "cell_type": "code",
   "execution_count": 12,
   "id": "d43bb73d",
   "metadata": {},
   "outputs": [
    {
     "name": "stdout",
     "output_type": "stream",
     "text": [
      "Nombre: Zapatos, Precio: 50 €, Cantidad: 25\n",
      "No existe vestido\n"
     ]
    }
   ],
   "source": [
    "\n",
    "# 2.3. definimos la función\n",
    "\n",
    "def buscar_producto(inventario, nombre):\n",
    "    # Objetivo: Buscar un producto en el inventario por nombre y mostrar sus detalles si se encuentra. \n",
    "    # Parámetros:\n",
    "        # Inventario: la lista completa de productos (cada uno es un diccionario).\n",
    "        # nombre: el dato clave que se usa para comparar y encontrar el producto deseado.\n",
    "        # No necesitas precio ni cantidad, porque no estás creando ni modificando el producto. Solo estás consultando si existe. \n",
    "    # Lógica: \n",
    "        # Recorremos el inventario utilizando un bucle for, examinando cada producto uno por uno.\n",
    "        # Si encontramos un producto cuyo nombre coincide con el buscado (ignorando mayúsculas/minúsculas), extraemos sus detalles (nombre, precio y cantidad) y los mostramos en pantalla. En ese momento, devolvemos el producto encontrado y finalizamos la función.\n",
    "        # Si al terminar el recorrido no se ha encontrado ninguna coincidencia, mostramos un mensaje indicando que el producto no existe y devolvemos None para señalar que la búsqueda ha fallado.\n",
    "\n",
    "\n",
    "    for producto in inventario: # Recorre cada producto dentro de la lista inventario. \n",
    "        if producto[\"nombre\"].lower() == nombre.lower():   # sin importar mayúsculas en los productos ( evitamos errores por duplicación). Detecta \"Camisa\" y \"camisa\" como mismo producto. \n",
    "            precio = producto[\"precio\"] #Extrae el precio y la cantidad del producto encontrado.\n",
    "            cantidad = producto[\"cantidad\"] \n",
    "            print(f\"Nombre: {producto[\"nombre\"]}, Precio: {precio} €, Cantidad: {cantidad}\") # Muestra los datos del producto en pantalla.\n",
    "            return producto   # Guarda la información del producto y marca el final del proceso\n",
    "    \n",
    "    else: # debe ir al mismo nivel de indentación que el for porque el return dentro del if detiene toda la función. El else (y cualquier código posterior) nunca se alcanzaría.\n",
    "        print(f\"No existe {nombre}\")\n",
    "        return None # Al usar return None, el código documenta explícitamente su intención de devolver un valor nulo para indicar el fracaso de la búsqueda.\n",
    "\n",
    "# Pruebas\n",
    "nombre = \"zapatos\" #nombre del producto a consultar\n",
    "resultado = buscar_producto(inventario, nombre)  # Existe: muestra producto y sus detalles\n",
    "nombre = \"vestido\"\n",
    "resultado = buscar_producto(inventario, nombre)  # No encuentra: notifica No existe\n"
   ]
  },
  {
   "cell_type": "code",
   "execution_count": 13,
   "id": "37c7f792",
   "metadata": {},
   "outputs": [],
   "source": [
    "# 2.4. actualizar_stock(nombre, cantidad)\n",
    "\n",
    "# Actualiza el stock de un producto en el inventario.\n",
    "# Debe recibir el nombre del producto y la cantidad a agregar o quitar como parámetros.\n",
    "# Utiliza un bucle for para recorrer el inventario.\n",
    "# Busca el producto por nombre.\n",
    "# Actualiza la cantidad según la entrada del usuario.\n",
    "# Si el producto no esta en el inventario muestra un mensaje indicándolo."
   ]
  },
  {
   "cell_type": "code",
   "execution_count": 14,
   "id": "8101eb98",
   "metadata": {},
   "outputs": [
    {
     "name": "stdout",
     "output_type": "stream",
     "text": [
      "Stock de camisa actualizado. Nuevo stock: 90\n",
      "ERROR: El producto vestido no está en el inventario.\n"
     ]
    }
   ],
   "source": [
    "# 2.4. definimos la función\n",
    "\n",
    "def actualizar_stock(inventario, nombre, cantidad):\n",
    "    # Objetivo: Actualizar el stock de un producto en el inventario.\n",
    "    # Parámetros:\n",
    "        # Inventario: es necesario saber cual es la estructura a modificar.\n",
    "        # Nombre: para comparar y encontrar el producto deseado.\n",
    "        # cantidad: estás modificando la cantidad del producto. \n",
    "    # Lógica: \n",
    "        # Recorremos el inventario con un bucle for.\n",
    "        # Comparamos el nombre del producto con el buscado (sin importar mayúsculas).\n",
    "        # Si hay coincidencia:\n",
    "            # Sumamos la cantidad nueva al stock actual.\n",
    "             # Mostramos el nuevo stock.\n",
    "            # Salimos de la función con return.\n",
    "        # Si no se encuentra ningún producto:\n",
    "        # Mostramos un mensaje de error indicando que no existe.\n",
    "        \n",
    "    for producto in inventario: #Recorre cada producto dentro de la lista inventario.\n",
    "        if producto[\"nombre\"].lower() == nombre.lower():  # sin importar mayúsculas en los productos ( evitamos errores por duplicación). Detecta \"Camisa\" y \"camisa\" como mismo producto. \n",
    "            producto[\"cantidad\"] += cantidad # Suma la nueva cantidad al stock actual del producto.\n",
    "            print(f\"Stock de {nombre} actualizado. Nuevo stock: {producto[\"cantidad\"]}\") # Muestra el nuevo stock en pantalla.\n",
    "            return producto  # Guarda la información del producto ( diccionario) y marca el final del proceso\n",
    "        \n",
    "    print(f\"ERROR: El producto {nombre} no está en el inventario.\") #Este mensaje se muestra solo si el bucle terminó sin encontrar coincidencias.\n",
    "\n",
    "# Pruebas\n",
    "actualizar_stock(inventario,\"camisa\", 50) # Camisa existe → suma 50 al stock\n",
    "actualizar_stock(inventario,\"vestido\", 50) # Vestido no existe → muestra mensaje de no está\n"
   ]
  },
  {
   "cell_type": "code",
   "execution_count": 15,
   "id": "e2d4b7e2",
   "metadata": {},
   "outputs": [],
   "source": [
    "# 2.5. eliminar_producto(nombre): \n",
    "\n",
    "# Elimina un producto del inventario por nombre. Debe recibir el nombre del producto como parámetro.\n",
    "# Utiliza un bucle for para recorrer el inventario.\n",
    "# Busca el producto por nombre.\n",
    "# Elimina el producto del inventario si existe.\n",
    "# Si el producto no esta en el inventario muestra un mensaje indicándolo"
   ]
  },
  {
   "cell_type": "code",
   "execution_count": 16,
   "id": "09a7ed5f",
   "metadata": {},
   "outputs": [
    {
     "name": "stdout",
     "output_type": "stream",
     "text": [
      "Producto zapatos eliminado del inventario.\n",
      "El producto vestido no está en el inventario.\n"
     ]
    }
   ],
   "source": [
    "# 2.5. definimos la función\n",
    "\n",
    "def eliminar_producto(inventario, nombre):\n",
    "    # Objetivo: Eliminar un producto del inventario por nombre.\n",
    "    # Parámetros: \n",
    "    # Inventario: es necesario saber la estructura a modificar. \n",
    "    # Nombre: para comparar y encontrar el producto deseado.\n",
    "    # Lógica: \n",
    "        # Recorremos el inventario con un bucle for.\n",
    "        # Comparamos el nombre de cada producto con el nombre buscado (sin importar mayúsculas/minúsculas).\n",
    "            # Si hay coincidencia:\n",
    "                # Eliminamos el producto.\n",
    "                # Mostramos un mensaje de confirmación.\n",
    "                # Salimos de la función con return.\n",
    "            # Si no se encuentra ningún producto:\n",
    "                # El bloque else del for se ejecuta.\n",
    "                # Mostramos un mensaje indicando que el producto no está.\n",
    "\n",
    "    for producto in inventario:  # Se recorre cada elemento (producto) dentro de la lista inventario.\n",
    "        if producto[\"nombre\"].lower() == nombre.lower():  # sin importar mayúsculas en los productos ( evitamos errores por duplicación). Detecta \"Camisa\" y \"camisa\" como mismo producto. \n",
    "            inventario.remove(producto)   # Si hay coincidencia, se elimina ese producto de la lista inventario.\n",
    "            print(f\"Producto {nombre} eliminado del inventario.\") # Muestra un mensaje confirmando que el producto fue eliminado.\n",
    "            return producto  # Guarda la información del producto ( diccionario) y marca el final del proceso\n",
    "    else: # se ejecuta solo si el for termina sin encontrar coincidencias.\n",
    "        print(f\"El producto {nombre} no está en el inventario.\") # Muestra un mensaje indicando que el producto no existe.\n",
    "\n",
    "# Pruebas\n",
    "eliminar_producto(inventario, \"zapatos\") # Existe → se elimina              #Ahora nuestra tienda solo quiere vender ropa y complementos. No zapatos.\n",
    "eliminar_producto(inventario, \"vestido\") # No existe → se muestra no está"
   ]
  },
  {
   "cell_type": "code",
   "execution_count": 17,
   "id": "09d421ad",
   "metadata": {},
   "outputs": [],
   "source": [
    "# 2.6. calcular_valor_inventario(): \n",
    "\n",
    "# Calcula y muestra el valor total del inventario.\n",
    "# Utiliza un bucle for para calcular el valor total del inventario.\n",
    "# Itera a través del inventario y suma el valor de cada producto (precio x cantidad). \n",
    "# Es decir, calcula el valor total del inventario."
   ]
  },
  {
   "cell_type": "code",
   "execution_count": 18,
   "id": "1b05cb46",
   "metadata": {},
   "outputs": [
    {
     "name": "stdout",
     "output_type": "stream",
     "text": [
      "Valor total del inventario: 7065 €\n"
     ]
    },
    {
     "data": {
      "text/plain": [
       "7065"
      ]
     },
     "execution_count": 18,
     "metadata": {},
     "output_type": "execute_result"
    }
   ],
   "source": [
    "# 2.6. definimos la función\n",
    "\n",
    "def calcular_valor_inventario(inventario):\n",
    "    # Objetivo:\n",
    "        # Calcular y mostrar el valor total del inventario.\n",
    "    # Parámetro:\n",
    "        # inventario: lista de diccionarios.\n",
    "    # Lógica: \n",
    "        # Se inicia un contador llamado valor_total.\n",
    "        # Se recorre cada producto del inventario.\n",
    "        # Para cada producto, se calcula su valor (precio × cantidad).\n",
    "        # Se suma ese valor al total acumulado.\n",
    "        # Al final, se muestra y se devuelve el valor total del inventario.\n",
    "\n",
    "    valor_total = 0   # Se inicia una variable para acumular el valor total del inventario.\n",
    "\n",
    "    for producto in inventario:     # Recorre cada producto dentro de la lista inventario.\n",
    "        precio = producto[\"precio\"]     #Extrae el precio y la cantidad de ese producto.\n",
    "        cantidad = producto[\"cantidad\"]     \n",
    "        valor_individual = precio * cantidad #Calcula el valor de ese producto (por ejemplo, 5 camisas × 20 € = 100 €).\n",
    "        valor_total += valor_individual #Suma ese valor al total acumulado.\n",
    "\n",
    "    print(f\"Valor total del inventario: {valor_total} €\") #Muestra el resultado final en pantalla.\n",
    "    return valor_total #Devuelve el valor total para que pueda usarse en otro lugar del programa si se necesita.\n",
    "\n",
    "# Prueba\n",
    "calcular_valor_inventario(inventario)"
   ]
  },
  {
   "cell_type": "code",
   "execution_count": 19,
   "id": "6c69da2b",
   "metadata": {},
   "outputs": [],
   "source": [
    "# 7. realizar_compra(): \n",
    "# Permite a un cliente realizar una compra seleccionando productos del inventario. \n",
    "# Debe interactuar con el cliente para seleccionar productos y calcular el costo total de la compra.\n",
    "# Utiliza un bucle while para permitir al cliente realizar múltiples compras.\n",
    "# Muestra el inventario y solicita al cliente ingresar el nombre del producto que desea comprar.\n",
    "# Registra los productos seleccionados en un carrito y actualiza el inventario.\n",
    "# Calcula el costo total de la compra.\n"
   ]
  },
  {
   "cell_type": "code",
   "execution_count": 20,
   "id": "f5808298",
   "metadata": {},
   "outputs": [
    {
     "name": "stdout",
     "output_type": "stream",
     "text": [
      "Bienvenido a la tienda. Aquí están los productos disponibles:\n",
      "Camisa - 20€ (Quedan: 90)\n",
      "Pantalon - 30€ (Quedan: 30)\n",
      "Chaqueta - 70€ (Quedan: 15)\n",
      "Falda - 25€ (Quedan: 20)\n",
      "Gorra - 10€ (Quedan: 50)\n",
      "Bufanda - 15€ (Quedan: 35)\n",
      "Calcetines - 5€ (Quedan: 100)\n",
      "Cinturon - 12€ (Quedan: 40)\n",
      "Bolso - 45€ (Quedan: 18)\n",
      "Nombre: Camisa, Precio: 20 €, Cantidad: 90\n",
      "Stock de Camisa actualizado. Nuevo stock: 89\n",
      "Has añadido 1 unidad(es) de Camisa al carrito. Total parcial: 20.0€\n",
      "Camisa - 20€ (Quedan: 89)\n",
      "Pantalon - 30€ (Quedan: 30)\n",
      "Chaqueta - 70€ (Quedan: 15)\n",
      "Falda - 25€ (Quedan: 20)\n",
      "Gorra - 10€ (Quedan: 50)\n",
      "Bufanda - 15€ (Quedan: 35)\n",
      "Calcetines - 5€ (Quedan: 100)\n",
      "Cinturon - 12€ (Quedan: 40)\n",
      "Bolso - 45€ (Quedan: 18)\n",
      "Resumen de tu compra:\n",
      "- Camisa: 1 unidad(es)\n",
      "Total a pagar: 20.0€\n",
      "Gracias por tu compra.\n"
     ]
    }
   ],
   "source": [
    "def realizar_compra(inventario): \n",
    "    # Objetivo: Permitir a un cliente realizar una compra seleccionando productos del inventario.\n",
    "    # Parámetro: Inventario. Necesitamos la estructura de datos central sobre la que opera la función. \n",
    "    # Lógica: \n",
    "        # Se muestra el inventario disponible y se crea un carrito vacío con un total de compra en 0.\n",
    "        # En un ciclo while True, el usuario elige un producto o escribe \"pagar\" para finalizar.\n",
    "        # Se verifica si el producto existe, tiene stock y si la cantidad pedida es válida.\n",
    "        # Si todo es correcto, se añade al carrito, se suma al total de la compra y se descuenta del inventario.\n",
    "        # Al escribir \"pagar\", se muestra un resumen con los productos comprados y el total a pagar.\n",
    "\n",
    "        # Para este ejercicio podemos reutilizar las funciones declaradas en los ejercicios anteriores, lo cual es una práctica clave en la programación para automatizar tareas y evitar la repetición innecesaria (Principio DRY, Don't Repeat Yourself)\n",
    "    \n",
    "    carrito = {} # Diccionario para guardar productos comprados \n",
    "    total_compra = 0.0 # Acumulador de tipo float \n",
    "\n",
    "    print(\"Bienvenido a la tienda. Aquí están los productos disponibles:\") \n",
    "\n",
    "    while True: # Bucle principal: se repite hasta que el cliente escriba \"pagar\" \n",
    "\n",
    "        # Mostrar inventario \n",
    "        for producto in inventario:\n",
    "            print(f\"{producto['nombre'].capitalize()} - {producto['precio']}€ (Quedan: {producto['cantidad']})\") \n",
    "\n",
    "        seleccion = input(\"Escribe el nombre del producto (tal como aparece en el inventario) o escribe 'pagar' para finalizar.\") # input() devuelve str\n",
    "\n",
    "        if seleccion == \"pagar\":\n",
    "            break # Utiliza break para terminar el ciclo inmediatamente \n",
    "        \n",
    "        # 1. Buscar si el producto existe en el inventario (USO DEL EJ. 2.3)\n",
    "        producto_encontrado = buscar_producto(inventario, seleccion) \n",
    "        \n",
    "        # 2. Si no se encuentra el producto, se informa\n",
    "        if not producto_encontrado:\n",
    "            print(\"Ese producto no está en el inventario.\")\n",
    "            continue # Salta la iteración actual \n",
    "            \n",
    "        # 3. Si el producto está agotado \n",
    "        if producto_encontrado[\"cantidad\"] == 0: \n",
    "            print(\"Ese producto está agotado.\")\n",
    "            continue\n",
    "\n",
    "        # 4. Preguntar cuántas unidades quiere comprar\n",
    "        cantidad_texto = input(f\"¿Cuántas unidades de {producto_encontrado['nombre']} quieres? \") \n",
    "\n",
    "        # 5. Validar que la cantidad sea un número entero positivo\n",
    "        if not cantidad_texto.isdigit(): # Verifica que el input sea un dígito.\n",
    "            print(\"Por favor, escribe un número válido.\")\n",
    "            continue\n",
    "\n",
    "        cantidad = int(cantidad_texto) # Type Casting: Convierte el str a int\n",
    "        if cantidad <= 0:\n",
    "            print(\"La cantidad debe ser mayor que cero.\")\n",
    "            continue\n",
    "\n",
    "        # 6. Verificar si hay suficiente stock \n",
    "        if cantidad > producto_encontrado[\"cantidad\"]: # Uso del operador de comparación > \n",
    "            print(f\"Solo hay {producto_encontrado['cantidad']} unidades disponibles.\")\n",
    "            continue\n",
    "\n",
    "        # 7. Añadir el producto al carrito y actualizar el total\n",
    "        nombre = producto_encontrado[\"nombre\"]\n",
    "        if nombre in carrito:\n",
    "            carrito[nombre] += cantidad # Suma al valor existente\n",
    "        else:\n",
    "            carrito[nombre] = cantidad # Crea nueva clave en diccionario \n",
    "\n",
    "        total_compra += producto_encontrado[\"precio\"] * cantidad # Actualiza el acumulador (float) \n",
    "\n",
    "        # 8. Restar la cantidad comprada del stock (USO DEL EJ. 2.4)\n",
    "        # Se llama a actualizar_stock con un valor negativo para restar la cantidad comprada.\n",
    "        actualizar_stock(inventario, nombre, -cantidad) \n",
    "        \n",
    "        print(f\"Has añadido {cantidad} unidad(es) de {nombre} al carrito. Total parcial: {total_compra}€\")\n",
    "\n",
    "    # 9. Mostrar resumen final de la compra\n",
    "    print(\"Resumen de tu compra:\") #\n",
    "    if carrito:\n",
    "        for nombre, cantidad in carrito.items(): # Itera sobre pares clave-valor (items) del diccionario [39]\n",
    "            print(f\"- {nombre.capitalize()}: {cantidad} unidad(es)\")\n",
    "        print(f\"Total a pagar: {total_compra:}€\")\n",
    "        print(\"Gracias por tu compra.\")\n",
    "    else:\n",
    "        print(\"No has comprado nada.\")\n",
    "\n",
    "realizar_compra(inventario)   #Suponemos que una clienta quiere comprar tres camisas, un pantalón y una chaqueta para dar una buena impresión en su nuevo trabajo como analista. "
   ]
  }
 ],
 "metadata": {
  "kernelspec": {
   "display_name": "Python 3",
   "language": "python",
   "name": "python3"
  },
  "language_info": {
   "codemirror_mode": {
    "name": "ipython",
    "version": 3
   },
   "file_extension": ".py",
   "mimetype": "text/x-python",
   "name": "python",
   "nbconvert_exporter": "python",
   "pygments_lexer": "ipython3",
   "version": "3.13.7"
  }
 },
 "nbformat": 4,
 "nbformat_minor": 5
}
