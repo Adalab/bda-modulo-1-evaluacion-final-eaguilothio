{
 "cells": [
  {
   "cell_type": "code",
   "execution_count": 97,
   "id": "b2a5b9d0",
   "metadata": {},
   "outputs": [
    {
     "name": "stdout",
     "output_type": "stream",
     "text": [
      "<class 'list'>\n",
      "<class 'dict'>\n",
      "<class 'float'>\n"
     ]
    }
   ],
   "source": [
    "# Estructura\n",
    "# Vamos a tener tres estructuras principales con las que vamos a trabajar:\n",
    "\n",
    "# 1. inventario (lista de diccionarios)\n",
    "# Debe ser una lista vacía al principio, tal como se indica. \n",
    "# El ejercicio pide que la lista completa esté vacía, no que contenga un producto vacío. \n",
    "# La estructura [{}] no es correcta ya contiene un elemento por lo que no está vacía.\n",
    "# Si quisiera un ejemplo de producto con claves vacías, la estructura correcta sería: producto_vacio = {\"nombre\": \"\", \"precio:0.0, \"cantidad\": 0}\n",
    "# Pero, el ejercicio solo pide la lista vacía. \n",
    "\n",
    "inventario = []\n",
    "\n",
    "# 2. clientes (diccionario)\n",
    "# Falta información sobre si el diccionario está vacío o no.\n",
    "# Dado que anteriormente se especificó la lista vacía y se mostró ejemplo de cómo debía ser.\n",
    "# Interpreto que, al no haber mención explícita en este caso, se asume que el diccionario que aparece es el que debo usar.\n",
    "# El diccionario clientes está compuesto por pares clave-valor, donde cada clave es el nombre de un cliente (como 'Ana García') y su valor es otro diccionario con información como el email y una lista de compras vacía.\n",
    "\n",
    "clientes = { 'Ana García': {'email': 'ana.garcia@email.com', 'compras': []},\n",
    "    'Luis Fernández': {'email': 'luis.fernandez@email.com', 'compras': []},\n",
    "    'María López': {'email': 'maria.lopez@email.com', 'compras': []},\n",
    "    'Carlos Ruiz': {'email': 'carlos.ruiz@email.com', 'compras': []},\n",
    "    'Elena Martín': {'email': 'elena.martin@email.com', 'compras': []},\n",
    "    'Javier Torres': {'email': 'javier.torres@email.com', 'compras': []},\n",
    "    'Lucía Sánchez': {'email': 'lucia.sanchez@email.com', 'compras': []},\n",
    "    'Sergio Díaz': {'email': 'sergio.diaz@email.com', 'compras': []},\n",
    "    'Patricia Ramos': {'email': 'patricia.ramos@email.com', 'compras': []},\n",
    "    'Diego Navarro': {'email': 'diego.navarro@email.com', 'compras': []} }\n",
    "\n",
    "# 3. ventas_totales (float)\n",
    "ventas_totales = 0.0\n",
    "# 0.0 es la forma más directa y recomendada para inicializar un número decimal (float). \n",
    "# float(0) se usa cuando partimos de un valor cuyo tipo no es compatible (por ejemplo, una cadena o entero) y necesitamos convertirlo explícitamente a float.\n",
    "\n",
    "# Evitar errores: print(type()). \n",
    "# Es una forma sencilla de confirmar que no cometí un error accidentalmente. \n",
    "# Por ejemplo, si hubiera escrito inventario = {} (un diccionario), type() me lo indicaría inmediatamente. \n",
    "\n",
    "print(type(inventario))\n",
    "print(type(clientes))\n",
    "print(type(ventas_totales))\n"
   ]
  },
  {
   "cell_type": "code",
   "execution_count": 98,
   "id": "e85e2efa",
   "metadata": {},
   "outputs": [
    {
     "name": "stdout",
     "output_type": "stream",
     "text": [
      "[]\n",
      "{'Ana García': {'email': 'ana.garcia@email.com', 'compras': []}, 'Luis Fernández': {'email': 'luis.fernandez@email.com', 'compras': []}, 'María López': {'email': 'maria.lopez@email.com', 'compras': []}, 'Carlos Ruiz': {'email': 'carlos.ruiz@email.com', 'compras': []}, 'Elena Martín': {'email': 'elena.martin@email.com', 'compras': []}, 'Javier Torres': {'email': 'javier.torres@email.com', 'compras': []}, 'Lucía Sánchez': {'email': 'lucia.sanchez@email.com', 'compras': []}, 'Sergio Díaz': {'email': 'sergio.diaz@email.com', 'compras': []}, 'Patricia Ramos': {'email': 'patricia.ramos@email.com', 'compras': []}, 'Diego Navarro': {'email': 'diego.navarro@email.com', 'compras': []}}\n",
      "0.0\n"
     ]
    }
   ],
   "source": [
    "# Confirmar contenido de las variables\n",
    "# Determinar la clase (tipo) de la variable con print(type(...)) debe hacerse primero. \n",
    "# Esto valida que la variable fue inicializada con la estructura de datos correcta (lista, diccionario, flotante, etc.). \n",
    "# Esto es una verificación de la forma de la estructura.\n",
    "\n",
    "# Imprimir el contenido de la variable con print(nombre_variable) debe hacerse después. \n",
    "# Esto valida que, una vez que la forma es correcta, el contenido que se esperaba (la lista vacía, el diccionario con clientes iniciales, el valor 0.0, etc.) se ha cargado correctamente. \n",
    "# Esto es una verificación del contenido de la estructura.\n",
    "\n",
    "print(inventario)\n",
    "print(clientes)\n",
    "print(ventas_totales)"
   ]
  },
  {
   "cell_type": "code",
   "execution_count": null,
   "id": "57e015b4",
   "metadata": {},
   "outputs": [],
   "source": [
    "#  #  Mi lógica de programación\n",
    "\n",
    "# 1. ¿Qué nombre le pongo?\n",
    "# Usar un verbo + acción concreta. \n",
    "# Ejemplos: \n",
    "# verificar_par() → verifica si un número es par\n",
    "# calcular_total()  → calcula el total de algo\n",
    "# traducir_palabra() → traduce una palabra\n",
    "\n",
    "# 2. ¿Qué datos necesita para funcionar?\n",
    "# Enumerar los datos que necesita recibir → serán los parámetros.\n",
    "# Parámetro 1: ¿Dónde quiero consultar o modificar?\n",
    "# → Ese será el contexto: lista, diccionario, conjunto, etc.\n",
    "# Parámetros 2, 3, ...: ¿Qué quiero consultar, buscar, agregar o cambiar?\n",
    "# → Esos serán los datos específicos: nombre, clave, valor, cantidad, etc.\n",
    "\n",
    "\n",
    "# 3. ¿Qué quiero que haga la función? ¿Qué pasos debe seguir? \n",
    "# Escribir los pasos como instrucciones simples.\n",
    "\n",
    "# Usar try/except alrededor de operaciones que pueden fallar para capturar y transformar errores.\n",
    "\n",
    "# ¿Cómo se ve en código?\n",
    "\n",
    "# def nombre_funcion(parametros):\n",
    "    # instrucciones (pasos)\n",
    "    # Paso 1: hacer algo\n",
    "    # Paso 2: hacer otra cosa\n",
    "    # Paso 3: devuelvo el resultado con return \n",
    "        # return resultado   → entrega el resultado para guardarlo o reutilizarlo fuera de la función\n",
    "    # Paso 4: ¿Cómo la pruebo? Imprimo el resultado Con print()\n",
    "        # print(resultado)  → solo lo muestra en pantalla, no lo guarda ni lo devuelve\n",
    "\n"
   ]
  },
  {
   "cell_type": "code",
   "execution_count": 100,
   "id": "51227b31",
   "metadata": {},
   "outputs": [],
   "source": [
    "# 2. Funciones\n",
    "# 2.1. agregar_producto(nombre, precio, cantidad):\n",
    "# Agrega un producto al inventario o actualiza su cantidad si ya existe. \n",
    "# Debe recibir el nombre, precio y cantidad del producto como parámetros.\n",
    "# Itera a través del inventario y compara los nombres de los productos con el nombre proporcionado.\n",
    "# Si el producto ya existe, actualiza la cantidad.\n",
    "# Si no existe, agrega un nuevo producto al inventario\n"
   ]
  },
  {
   "cell_type": "code",
   "execution_count": 101,
   "id": "0e88b9c9",
   "metadata": {},
   "outputs": [
    {
     "name": "stdout",
     "output_type": "stream",
     "text": [
      "[]\n"
     ]
    }
   ],
   "source": [
    "\n",
    "# ¿Cómo se ve en código?\n",
    "# Estructura según mi lógica\n",
    "\n",
    "def agregar_producto(inventario, nombre, precio, cantidad):\n",
    "    for producto in inventario: # Iterar sobre cada producto en la lista. Objetivo del for: Revisar si el producto YA está en el inventario. Empezamos a revisar el inventario, un producto a la vez.\n",
    "        if producto[\"nombre\"].lower() == nombre.lower():  # Ver si existe. Usar lower() para no duplicar productos (Case-Insensitive): que detecte Camisa y camisa como el mismo producto.\n",
    "            producto[\"cantidad\"] += cantidad  # Si el producto ya existe, actualiza la cantidad. ¡Encontrado! Sumamos la nueva cantidad a la cantidad existente.\n",
    "            return inventario  # El return marca el final de la función y devuelve un resultado \n",
    "        else: # No existe, agrega un nuevo producto al inventario.\n",
    "            nuevo_producto = {\"nombre\": nombre,        \n",
    "                    \"precio\": precio,       \n",
    "                    \"cantidad\": cantidad }     \n",
    "            inventario.append(nuevo_producto) # inventario es una lista y podemos aplicar append a una lista. \n",
    "            return inventario # Devolver el inventario modificado\n",
    " \n",
    " # Si quisieramos agregar un producto cualquiera:\n",
    "# Llamamos a la función\n",
    "agregar_producto(inventario, \"camisa\", 20, 40)\n",
    "\n",
    "# Mostramos el inventario\n",
    "print(inventario)"
   ]
  },
  {
   "cell_type": "code",
   "execution_count": null,
   "id": "400cb7b5",
   "metadata": {},
   "outputs": [],
   "source": [
    "# Conclusiones agregar_producto:\n",
    "   # Objetivo: Agregar un nuevo producto al inventario.\n",
    "   # Parámetros:\n",
    "       # inventario → lista donde se guardará el nuevo producto.\n",
    "       # nombre → nombre del producto.\n",
    "       # precio → valor numérico del producto.\n",
    "       # cantidad → unidades disponibles.\n",
    "    # Usa \"precio\" y \"cantidad\" porque necesita esos datos para crear el nuevo producto.\n",
    "\n",
    "# Aunque el inventario esté vacío al principio, la lógica está diseñada para funcionar siempre, sin importar el estado inicial. \n",
    "# Si el inventario tiene productos, el for revisa si ya existe → actualiza o agrega.\n",
    "# Si el inventario está vacío, el for no entra → pasa directo al append.\n"
   ]
  },
  {
   "cell_type": "code",
   "execution_count": 104,
   "id": "b9473afe",
   "metadata": {},
   "outputs": [],
   "source": [
    "# 2.2. ver_inventario(): \n",
    "# Muestra el inventario de productos con sus detalles.\n",
    "# Utiliza un bucle for para recorrer el inventario.\n",
    "# Imprime los detalles (nombre, precio, cantidad) de cada producto."
   ]
  },
  {
   "cell_type": "code",
   "execution_count": 106,
   "id": "33e770f6",
   "metadata": {},
   "outputs": [
    {
     "name": "stdout",
     "output_type": "stream",
     "text": [
      "Nombre: Camisa, Precio: 20 €, Cantidad: 40\n",
      "Nombre: Pantalón, Precio: 30 €, Cantidad: 30\n",
      "Nombre: Zapatos, Precio: 50 €, Cantidad: 25\n",
      "Nombre: Chaqueta, Precio: 70 €, Cantidad: 15\n",
      "Nombre: Falda, Precio: 25 €, Cantidad: 20\n",
      "Nombre: Gorra, Precio: 10 €, Cantidad: 50\n",
      "Nombre: Bufanda, Precio: 15 €, Cantidad: 35\n",
      "Nombre: Calcetines, Precio: 5 €, Cantidad: 100\n",
      "Nombre: Cinturón, Precio: 12 €, Cantidad: 40\n",
      "Nombre: Bolso, Precio: 45 €, Cantidad: 18\n",
      "Todos los productos han sido mostrados correctamente\n"
     ]
    }
   ],
   "source": [
    "\n",
    "# Solo teníamos 1 producto. Antes, [{'nombre': 'camisa', 'precio': 20, 'cantidad': 40}]\n",
    "# Si queremos productos con sus detalles, redefinimos el inventario.\n",
    "\n",
    "inventario = [ {'nombre': 'Camisa', 'precio': 20, 'cantidad': 40}, \n",
    "    {'nombre': 'Pantalón', 'precio': 30, 'cantidad': 30}, \n",
    "    {'nombre': 'Zapatos', 'precio': 50, 'cantidad': 25}, \n",
    "    {'nombre': 'Chaqueta', 'precio': 70, 'cantidad': 15}, \n",
    "    {'nombre': 'Falda', 'precio': 25, 'cantidad': 20}, \n",
    "    {'nombre': 'Gorra', 'precio': 10, 'cantidad': 50}, \n",
    "    {'nombre': 'Bufanda', 'precio': 15, 'cantidad': 35}, \n",
    "    {'nombre': 'Calcetines', 'precio': 5, 'cantidad': 100}, \n",
    "    {'nombre': 'Cinturón', 'precio': 12, 'cantidad': 40}, \n",
    "    {'nombre': 'Bolso', 'precio': 45, 'cantidad': 18}] \n",
    "\n",
    "# definimos la función\n",
    "def ver_inventario(inventario):\n",
    "    if not inventario:\n",
    "        print(\"El inventario está vacío.\")\n",
    "        return  # Salimos si no hay productos\n",
    "\n",
    "    for producto in inventario: # El for nos informa: \"Para cada producto dentro del inventario, búscame su nombre, precio y cantidad, y muéstralos en pantalla\".\n",
    "        nombre = producto['nombre']\n",
    "        precio = producto['precio']\n",
    "        cantidad = producto['cantidad']\n",
    "        print(f\"Nombre: {nombre}, Precio: {precio} €, Cantidad: {cantidad}\")\n",
    "\n",
    "ver_inventario(inventario) # Llamamos a la función para que se ejecute\n",
    "print(f\"Todos los productos han sido mostrados correctamente\") #está fuera de la función, así NO se ejecuta siempre que sale un producto. Después de la función porque es más lógico mostrar el mensaje: \"Todos los productos han sido mostrados correctamente\", después de ver los productos.\n"
   ]
  },
  {
   "cell_type": "code",
   "execution_count": null,
   "id": "149a95d8",
   "metadata": {},
   "outputs": [],
   "source": [
    "# conclusiones ver inventario:\n",
    "\n",
    "   # Objetivo: Mostrar todos los productos en el inventario.\n",
    "   # Parámetros:\n",
    "       # inventario → lista con los productos actuales.\n",
    "       # No requiere nombre, precio ni cantidad, \n",
    "       # solo recorre y muestra la lista completa.\n",
    "\n",
    "       # ERROR: nos lo presentará verticalmente, no horizontalmente como un texto.  \n",
    "       # for producto in inventario: (vertical)\n",
    "              #nombre = producto['nombre']\n",
    "              # precio = producto['precio']\n",
    "              # cantidad = producto['cantidad']\n",
    "              # print(\"Nombre:\", nombre)\n",
    "              # print(\"Precio:\", precio)\n",
    "              # print(\"Cantidad:\", cantidad)\n",
    "       # for producto in inventario: (horizontal)\n",
    "              #nombre = producto['nombre']\n",
    "              # precio = producto['precio']\n",
    "              # cantidad = producto['cantidad']\n",
    "              # print(f\"Nombre: {nombre}, Precio: {precio} €, Cantidad: {cantidad}\")\n",
    "\n",
    "       # try...except solo maneja errores de ejecución (excepciones) que detienen el programa, como KeyError, ValueError, o ZeroDivisionError. \n",
    "       # No detecta problemas de estilo de formato de la salida. \n",
    "       # Por tanto, no aplicaríamos el try para avisarnos de que el codigo nos lo presentará vertical."
   ]
  },
  {
   "cell_type": "code",
   "execution_count": 108,
   "id": "271df414",
   "metadata": {},
   "outputs": [],
   "source": [
    "# 2.3. buscar_producto(nombre): \n",
    "# Busca un producto en el inventario por nombre y muestra sus detalles si se encuentra. Debe recibir el nombre del producto como parámetro.\n",
    "# Utiliza un bucle for para recorrer el inventario.\n",
    "# Compara los nombres de los productos con el nombre proporcionado.\n",
    "# Si se encuentra el producto, imprime sus detalles."
   ]
  },
  {
   "cell_type": "code",
   "execution_count": 109,
   "id": "be868806",
   "metadata": {},
   "outputs": [],
   "source": [
    "#  Mi lógica de programación\n",
    "# 1. ¿Qué nombre le pongo?\n",
    "# buscar_producto(nombre)\n",
    "# 2. ¿Qué datos necesita para funcionar?\n",
    "# Parámetro 1: inventario (lista de diccionarios)\n",
    "# Parámetros 2: nombre: nombre del producto             \n",
    "# 3. ¿Qué pasos debe seguir?\n",
    "# Busca un producto en el inventario por nombre y muestra sus detalles si se encuentra. Debe recibir el nombre del producto como parámetro.\n",
    "# Utiliza un bucle for para recorrer el inventario.\n",
    "# Compara los nombres de los productos con el nombre proporcionado.\n",
    "# Si se encuentra el producto, imprime sus detalles."
   ]
  },
  {
   "cell_type": "code",
   "execution_count": 110,
   "id": "d43bb73d",
   "metadata": {},
   "outputs": [
    {
     "name": "stdout",
     "output_type": "stream",
     "text": [
      "Nombre: Zapatos, Precio: 50 €, Cantidad: 25\n"
     ]
    }
   ],
   "source": [
    "def buscar_producto(inventario, nombre):\n",
    "    for producto in inventario:\n",
    "        if producto[\"nombre\"].lower() == nombre.lower():\n",
    "            precio = producto['precio']\n",
    "            cantidad = producto['cantidad']\n",
    "            print(f\"Nombre: {producto['nombre']}, Precio: {precio} €, Cantidad: {cantidad}\")\n",
    "            return producto   # Devuelve solo el producto encontrado\n",
    " \n",
    "    else:\n",
    "        print(f\"No existe {nombre}\")\n",
    "        return None\n",
    "\n",
    "nombre = \"zapatos\"\n",
    "resultado = buscar_producto(inventario, nombre)"
   ]
  },
  {
   "cell_type": "code",
   "execution_count": 111,
   "id": "470b15c5",
   "metadata": {},
   "outputs": [],
   "source": [
    "# conclusiones\n",
    "\n",
    "# buscar_producto(inventario, nombre)\n",
    "   # Objetivo: Buscar un producto existente en el inventario.\n",
    "   # Parámetros:\n",
    "     # inventario → lista de productos.\n",
    "     # nombre → nombre del producto a buscar.\n",
    "     # No necesita \"precio\" ni \"cantidad\", porque esos datos se obtienen directamente del inventario.\n",
    "# Error: Si la función solo busca, los parámetros deben ser solo lo que se necesita para buscar (en este caso, inventario y nombre). No consideramos: precio o cantidad como parámetros. Nos saldria error. \n"
   ]
  }
 ],
 "metadata": {
  "kernelspec": {
   "display_name": "Python 3",
   "language": "python",
   "name": "python3"
  },
  "language_info": {
   "codemirror_mode": {
    "name": "ipython",
    "version": 3
   },
   "file_extension": ".py",
   "mimetype": "text/x-python",
   "name": "python",
   "nbconvert_exporter": "python",
   "pygments_lexer": "ipython3",
   "version": "3.13.7"
  }
 },
 "nbformat": 4,
 "nbformat_minor": 5
}
