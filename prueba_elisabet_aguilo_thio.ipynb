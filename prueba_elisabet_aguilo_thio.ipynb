{
 "cells": [
  {
   "cell_type": "code",
   "execution_count": 8,
   "id": "b2a5b9d0",
   "metadata": {},
   "outputs": [],
   "source": [
    "# Estructura\n",
    "# Vamos a tener tres estructuras principales con las que vamos a trabajar:\n",
    "\n",
    "# 1. inventario (lista de diccionarios)\n",
    "# Debe ser una lista vacía al principio, tal como se indica. \n",
    "inventario = []\n",
    "\n",
    "# 2. clientes (diccionario)\n",
    "clientes = { 'Ana García': {'email': 'ana.garcia@email.com', 'compras': []},\n",
    "    'Luis Fernández': {'email': 'luis.fernandez@email.com', 'compras': []},\n",
    "    'María López': {'email': 'maria.lopez@email.com', 'compras': []},\n",
    "    'Carlos Ruiz': {'email': 'carlos.ruiz@email.com', 'compras': []},\n",
    "    'Elena Martín': {'email': 'elena.martin@email.com', 'compras': []},\n",
    "    'Javier Torres': {'email': 'javier.torres@email.com', 'compras': []},\n",
    "    'Lucía Sánchez': {'email': 'lucia.sanchez@email.com', 'compras': []},\n",
    "    'Sergio Díaz': {'email': 'sergio.diaz@email.com', 'compras': []},\n",
    "    'Patricia Ramos': {'email': 'patricia.ramos@email.com', 'compras': []},\n",
    "    'Diego Navarro': {'email': 'diego.navarro@email.com', 'compras': []} }\n",
    "\n",
    "# 3. ventas_totales (float)\n",
    "ventas_totales = 0.0"
   ]
  }
 ],
 "metadata": {
  "kernelspec": {
   "display_name": "Python 3",
   "language": "python",
   "name": "python3"
  },
  "language_info": {
   "codemirror_mode": {
    "name": "ipython",
    "version": 3
   },
   "file_extension": ".py",
   "mimetype": "text/x-python",
   "name": "python",
   "nbconvert_exporter": "python",
   "pygments_lexer": "ipython3",
   "version": "3.13.7"
  }
 },
 "nbformat": 4,
 "nbformat_minor": 5
}
